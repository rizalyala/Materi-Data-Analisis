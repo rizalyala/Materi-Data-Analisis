{
 "cells": [
  {
   "cell_type": "code",
   "execution_count": 1,
   "source": [
    "import pandas as pd\r\n",
    "# Baca file \"public data covid19 jhu csse eu.csv\"\r\n",
    "df = pd.read_csv(\"https://storage.googleapis.com/dqlab-dataset/CHAPTER%204%20-%20missing%20value%20-%20public%20data%20covid19%20.csv\")\r\n",
    "# Cetak info dari df\r\n",
    "print(df.info())\r\n",
    "# Cetak jumlah missing value di setiap kolom\r\n",
    "mv = df.isna().sum()\r\n",
    "print(\"\\nJumlah missing value per kolom:\\n\",mv)"
   ],
   "outputs": [
    {
     "output_type": "stream",
     "name": "stdout",
     "text": [
      "<class 'pandas.core.frame.DataFrame'>\n",
      "RangeIndex: 1000 entries, 0 to 999\n",
      "Data columns (total 13 columns):\n",
      " #   Column          Non-Null Count  Dtype  \n",
      "---  ------          --------------  -----  \n",
      " 0   province_state  960 non-null    object \n",
      " 1   country_region  1000 non-null   object \n",
      " 2   date            1000 non-null   object \n",
      " 3   latitude        874 non-null    float64\n",
      " 4   longitude       874 non-null    float64\n",
      " 5   location_geom   874 non-null    object \n",
      " 6   confirmed       1000 non-null   int64  \n",
      " 7   deaths          999 non-null    float64\n",
      " 8   recovered       999 non-null    float64\n",
      " 9   active          949 non-null    float64\n",
      " 10  fips            949 non-null    float64\n",
      " 11  admin2          842 non-null    object \n",
      " 12  combined_key    0 non-null      float64\n",
      "dtypes: float64(7), int64(1), object(5)\n",
      "memory usage: 101.7+ KB\n",
      "None\n",
      "\n",
      "Jumlah missing value per kolom:\n",
      " province_state      40\n",
      "country_region       0\n",
      "date                 0\n",
      "latitude           126\n",
      "longitude          126\n",
      "location_geom      126\n",
      "confirmed            0\n",
      "deaths               1\n",
      "recovered            1\n",
      "active              51\n",
      "fips                51\n",
      "admin2             158\n",
      "combined_key      1000\n",
      "dtype: int64\n"
     ]
    }
   ],
   "metadata": {}
  },
  {
   "cell_type": "markdown",
   "source": [
    "-----------------------------------------------------------------\r\n",
    "Terdapat beberapa cara untuk mengatasi missing value, antara lain:\r\n",
    "\r\n",
    "- dibiarkan saja,\r\n",
    "- hapus value itu, atau\r\n",
    "- isi value tersebut dengan value yang lain (biasanya interpolasi, mean, median, etc)"
   ],
   "metadata": {}
  },
  {
   "cell_type": "markdown",
   "source": [
    "**Treatment pertama** (membiarkannya saja) seperti pada kolom confirmed, death, dan recovered. Akan tetapi jika tidak ada yang terkonfirmasi, meninggal dan sembuh sebenarnya dapat menukar value ini dengan angka nol. Meskipun ini lebih make sense dalam representasi datanya, tetapi untuk sub bab ini ketiga kolom tersebut diasumsikan dibiarkan memiliki nilai missing value.\r\n",
    "\r\n",
    " \r\n",
    "\r\n",
    "**Treatment kedua** yaitu dengan menghapus kolom, yang mana ini digunakan jika seluruh kolom dari dataset yang dipunyai semua barisnya adalah missing value. Untuk itu dapat menerapkan method .dropna() pada dataframe, bagaimana caranya?"
   ],
   "metadata": {}
  },
  {
   "cell_type": "markdown",
   "source": [
    "nama_dataframe.dropna(axis=1, how=\"all\")"
   ],
   "metadata": {}
  },
  {
   "cell_type": "markdown",
   "source": [
    "Pada method .dropna() ada dua keyword argumen yang harus diisikan yaitu axis dan how. Keyword axis digunakan untuk menentukan arah dataframe yang akan dibuang angka 1 untuk menyatakan kolom (column-based) atau dapat ditulis dalam string \"column\". Jika digunakan angka 0 berarti itu dalam searah index (row-based) atau dapat ditulis dalam string \"index\".\r\n",
    "\r\n",
    "Sementara, keyword how digunakan untuk bagaimana cara membuangnya. Opsi yang dapat diterimanya (dalam string) adalah\r\n",
    "\r\n",
    " - \"**all**\" artinya jika seluruh data di satu/beberapa kolom atau di satu/beberapa baris adalah missing value.\r\n",
    " - \"**any**\" artinya jika memiliki 1 saja data yang hilang maka buanglah baris/kolom tersebut.\r\n",
    "\r\n",
    " ----------------------------------------------------------------"
   ],
   "metadata": {}
  },
  {
   "cell_type": "code",
   "execution_count": 2,
   "source": [
    "import pandas as pd\r\n",
    "# Baca file \"public data covid19 jhu csse eu.csv\"\r\n",
    "df = pd.read_csv(\"https://storage.googleapis.com/dqlab-dataset/CHAPTER%204%20-%20missing%20value%20-%20public%20data%20covid19%20.csv\")\r\n",
    "\r\n",
    "# Cetak ukuran awal dataframe\r\n",
    "print(\"Ukuran awal df: %d baris, %d kolom.\"% df.shape)\r\n",
    "\r\n",
    "# Drop kolom yang seluruhnya missing value dan cetak ukurannya\r\n",
    "df = df.dropna(axis=1, how=\"all\")\r\n",
    "print(\"Ukuran df setelah buang kolom dengan seluruh data missing: %d baris, %d kolom.\"% df.shape)\r\n",
    "\r\n",
    "# Drop baris jika ada satu saja data yang missing dan cetak ukurannya\r\n",
    "df = df.dropna(axis=0, how=\"any\")\r\n",
    "print(\"Ukuran df setelah dibuang baris yang memiliki sekurangnya 1 missing value: %d baris, %d kolom.\"% df.shape)"
   ],
   "outputs": [
    {
     "output_type": "stream",
     "name": "stdout",
     "text": [
      "Ukuran awal df: 1000 baris, 13 kolom.\n",
      "Ukuran df setelah buang kolom dengan seluruh data missing: 1000 baris, 12 kolom.\n",
      "Ukuran df setelah dibuang baris yang memiliki sekurangnya 1 missing value: 746 baris, 12 kolom.\n"
     ]
    }
   ],
   "metadata": {}
  },
  {
   "cell_type": "markdown",
   "source": [
    "-----------------------------------------------------------------\r\n",
    "Sekarang, akan melakukan treatment ketiga untuk menghandle missing value pada dataframe. Treatment ini dilakukan dengan cara mengisi missing value dengan nilai lain, yang dapat berupa :\r\n",
    "\r\n",
    "- nilai statistik seperti mean atau median\r\n",
    "- interpolasi data\r\n",
    "- text tertentu\r\n",
    " \r\n",
    "\r\n",
    "Akan mulai pada kolom yang missing yang tipe datanya adalah berupa object. Kolom tersebut adalah province_state, karena tidak tahu secara persis province_state mana yang dimaksud, bisa menempatkan string \"unknown\" sebagai substitusi missing value. Meskipun keduanya berarti sama-sama tidak tahu tetapi berbeda dalam representasi datanya.\r\n",
    "\r\n",
    "Untuk melakukan hal demikian dapat menggunakan method .fillna() pada kolom dataframe yang dimaksud.\r\n",
    "\r\n",
    "-----------------------------------------------------------------"
   ],
   "metadata": {}
  },
  {
   "cell_type": "code",
   "execution_count": 3,
   "source": [
    "import pandas as pd\r\n",
    "# Baca file \"public data covid19 jhu csse eu.csv\"\r\n",
    "df = pd.read_csv(\"https://storage.googleapis.com/dqlab-dataset/CHAPTER%204%20-%20missing%20value%20-%20public%20data%20covid19%20.csv\")\r\n",
    "\r\n",
    "# Cetak unique value pada kolom province_state\r\n",
    "print(\"Unique value awal:\\n\", df[\"province_state\"].unique())\r\n",
    "\r\n",
    "# Ganti missing value dengan string \"unknown_province_state\"\r\n",
    "df[\"province_state\"] = df[\"province_state\"].fillna(\"unknown_province_state\")\r\n",
    "\r\n",
    "# Cetak kembali unique value pada kolom province_state\r\n",
    "print(\"Unique value setelah fillna:\\n\", df[\"province_state\"].unique())"
   ],
   "outputs": [
    {
     "output_type": "stream",
     "name": "stdout",
     "text": [
      "Unique value awal:\n",
      " [nan 'US' 'Guam' 'Iowa']\n",
      "Unique value setelah fillna:\n",
      " ['unknown_province_state' 'US' 'Guam' 'Iowa']\n"
     ]
    }
   ],
   "metadata": {}
  },
  {
   "cell_type": "markdown",
   "source": [
    "-----------------------------------------------------------------\r\n",
    "\r\n",
    "masih melanjutkan bagaimana menghandle missing value tentunya dengan jalan mengganti missing value dengan nilai lainnya. Pada bab sebelumnya telah mengganti kolom bertipe objek dengan sesuatu string/teks.\r\n",
    "\r\n",
    "Dalam sub bab ini akan mengganti missing value dengan nilai statistik kolom bersangkutan, baik median atau mean (nilai rata-rata). Misalnya akan menggunakan kolom active. Dengan mengabaikan terlebih dahulu sebaran berdasarkan negara (univariate), jika mengisi dengan nilai rata-rata maka harus melihat terlebih dahulu data apakah memiliki ouliers atau tidak. Jika ada outliers dari data maka menggunakan nilai tengah (median) data adalah cara yang lebih safe.\r\n",
    "\r\n",
    "Untuk itu diputuskan dengan mengecek nilai median dan nilai mean kolom active juga nilai min dan max-nya. Jika data pada kolom active terdistribusi normal maka nilai mean dan median akan hampir sama.\r\n",
    "\r\n",
    "-----------------------------------------------------------------"
   ],
   "metadata": {}
  },
  {
   "cell_type": "code",
   "execution_count": 2,
   "source": [
    "import pandas as pd\r\n",
    "# Baca file \"https://storage.googleapis.com/dqlab-dataset/CHAPTER%204%20-%20missing%20value%20-%20public%20data%20covid19%20.csv\"\r\n",
    "df = pd.read_csv(\"https://storage.googleapis.com/dqlab-dataset/CHAPTER%204%20-%20missing%20value%20-%20public%20data%20covid19%20.csv\")\r\n",
    "\r\n",
    "# Cetak Missing Value\r\n",
    "print(\"Jumlah Missing Value : \", df[\"active\"].isna().sum())\r\n",
    "\r\n",
    "# Isi missing value kolom active dengan median\r\n",
    "df[\"active\"] = df[\"active\"].fillna(df[\"active\"].median())\r\n",
    "\r\n",
    "#Cek kembali kolom active\r\n",
    "print(\"Jumlah mising value setelah diisi median :\", df[\"active\"].isna().sum())"
   ],
   "outputs": [
    {
     "output_type": "stream",
     "name": "stdout",
     "text": [
      "Jumlah Missing Value :  51\n",
      "Jumlah mising value setelah diisi median : 0\n"
     ]
    }
   ],
   "metadata": {}
  },
  {
   "cell_type": "code",
   "execution_count": 1,
   "source": [
    "import pandas as pd\r\n",
    "# Baca file \"https://storage.googleapis.com/dqlab-dataset/CHAPTER%204%20-%20missing%20value%20-%20public%20data%20covid19%20.csv\"\r\n",
    "df = pd.read_csv(\"https://storage.googleapis.com/dqlab-dataset/CHAPTER%204%20-%20missing%20value%20-%20public%20data%20covid19%20.csv\")\r\n",
    "\r\n",
    "# Cetak nilai mean dan median awal \r\n",
    "print(\"Awal: mean = %f, median = %f.\" % (df[\"active\"].mean(), df[\"active\"].median()))\r\n",
    "\r\n",
    "# Isi missing value kolom active dengan median\r\n",
    "df_median = df[\"active\"].fillna(df[\"active\"].median())\r\n",
    "\r\n",
    "# Cetak nilai mean dan median awal setelah diisi dengan median\r\n",
    "print(\"Fillna median: mean = %f, median = %f.\" % (df_median.mean(), df_median.median()))\r\n",
    "\r\n",
    "# Isi missing value kolom active dengan mean\r\n",
    "df_mean = df[\"active\"].fillna(df[\"active\"].mean())\r\n",
    "\r\n",
    "# Cetak nilai mean dan median awal setelah diisi dengan mean\r\n",
    "print(\"Fillna mean: mean = %f, median = %f.\" % (df_mean.mean(), df_mean.median()))"
   ],
   "outputs": [
    {
     "output_type": "stream",
     "name": "stdout",
     "text": [
      "Awal: mean = 192.571128, median = 41.000000.\n",
      "Fillna median: mean = 184.841000, median = 41.000000.\n",
      "Fillna mean: mean = 192.571128, median = 49.000000.\n"
     ]
    }
   ],
   "metadata": {}
  },
  {
   "cell_type": "markdown",
   "source": [
    "----------\r\n",
    "\r\n",
    "Di bagian ini akan menggunakan teknik interpolasi dalam mengisi nilai missing value pada suatu dataset.\r\n",
    "\r\n",
    "Data yang menggunakan interpolasi untuk mengisi data yang hilang adalah time series data, yang secara default akan diisi dengan interpolasi linear.\r\n",
    "\r\n",
    "--------------"
   ],
   "metadata": {}
  },
  {
   "cell_type": "code",
   "execution_count": 3,
   "source": [
    "import numpy as np\r\n",
    "import pandas as pd\r\n",
    "# Data\r\n",
    "ts = pd.Series({\r\n",
    "   \"2020-01-01\":9,\r\n",
    "   \"2020-01-02\":np.nan,\r\n",
    "   \"2020-01-05\":np.nan,\r\n",
    "   \"2020-01-07\":24,\r\n",
    "   \"2020-01-10\":np.nan,\r\n",
    "   \"2020-01-12\":np.nan,\r\n",
    "   \"2020-01-15\":33,\r\n",
    "   \"2020-01-17\":np.nan,\r\n",
    "   \"2020-01-16\":40,\r\n",
    "   \"2020-01-20\":45,\r\n",
    "   \"2020-01-22\":52,\r\n",
    "   \"2020-01-25\":75,\r\n",
    "   \"2020-01-28\":np.nan,\r\n",
    "   \"2020-01-30\":np.nan\r\n",
    "})\r\n",
    "# Isi missing value menggunakan interpolasi linier\r\n",
    "ts = ts.interpolate()\r\n",
    "# Cetak time series setelah interpolasi linier\r\n",
    "print(\"Setelah diisi missing valuenya:\\n\", ts)"
   ],
   "outputs": [
    {
     "output_type": "stream",
     "name": "stdout",
     "text": [
      "Setelah diisi missing valuenya:\n",
      " 2020-01-01     9.0\n",
      "2020-01-02    14.0\n",
      "2020-01-05    19.0\n",
      "2020-01-07    24.0\n",
      "2020-01-10    27.0\n",
      "2020-01-12    30.0\n",
      "2020-01-15    33.0\n",
      "2020-01-17    36.5\n",
      "2020-01-16    40.0\n",
      "2020-01-20    45.0\n",
      "2020-01-22    52.0\n",
      "2020-01-25    75.0\n",
      "2020-01-28    75.0\n",
      "2020-01-30    75.0\n",
      "dtype: float64\n"
     ]
    }
   ],
   "metadata": {}
  }
 ],
 "metadata": {
  "orig_nbformat": 4,
  "language_info": {
   "name": "python"
  }
 },
 "nbformat": 4,
 "nbformat_minor": 2
}