{
 "cells": [
  {
   "cell_type": "markdown",
   "source": [
    "\r\n",
    "# **INDEXING**\r\n",
    "\r\n",
    "\r\n",
    "**Index merupakan key identifier dari tiap row/column** untuk Series atau Dataframe (sifatnya tidak mutable untuk masing-masing value tapi bisa diganti untuk semua value sekaligus).\r\n",
    "\r\n",
    "Jika tidak disediakan, pandas akan membuat kolom index default secara otomatis sebagai bilangan bulat (integer) dari 0 sampai range jumlah baris data tersebut.\r\n",
    "\r\n",
    "Kolom index dapat terdiri dari\r\n",
    "\r\n",
    "- satu kolom (single index), atau\r\n",
    "- multiple kolom (disebut dengan hierarchical indexing).\r\n",
    "\r\n",
    "Index dengan multiple kolom ini terjadi karena unique identifier tidak dapat dicapai hanya dengan set index di 1 kolom saja sehingga membutuhkan beberapa kolom yang menjadikan tiap row menjadi unique.\r\n",
    "\r\n"
   ],
   "metadata": {}
  },
  {
   "cell_type": "markdown",
   "source": [
    "\r\n",
    "## **SINGLE KOLOM**\r\n",
    "\r\n",
    "\r\n"
   ],
   "metadata": {}
  },
  {
   "cell_type": "code",
   "execution_count": 1,
   "source": [
    "# Single Index\r\n",
    "\r\n",
    "import pandas as pd\r\n",
    "# Baca file TSV sample_tsv.tsv\r\n",
    "df = pd.read_csv(\"https://storage.googleapis.com/dqlab-dataset/sample_tsv.tsv\" , sep=\"\\t\")\r\n",
    "# Index dari df\r\n",
    "print(\"Index:\", df.index)\r\n",
    "# Column dari df\r\n",
    "print(\"Columns:\", df.columns)"
   ],
   "outputs": [
    {
     "output_type": "stream",
     "name": "stdout",
     "text": [
      "Index: RangeIndex(start=0, stop=101, step=1)\n",
      "Columns: Index(['order_id', 'order_date', 'customer_id', 'city', 'province',\n",
      "       'product_id', 'brand', 'quantity', 'item_price'],\n",
      "      dtype='object')\n"
     ]
    }
   ],
   "metadata": {}
  },
  {
   "cell_type": "markdown",
   "source": [
    "\r\n",
    "## **MULTI KOLOM**\r\n",
    "\r\n",
    "\r\n"
   ],
   "metadata": {}
  },
  {
   "cell_type": "code",
   "execution_count": 1,
   "source": [
    "# Multi Index\r\n",
    "\r\n",
    "import pandas as pd\r\n",
    "# Baca file TSV sample_tsv.tsv\r\n",
    "df = pd.read_csv(\"https://storage.googleapis.com/dqlab-dataset/sample_tsv.tsv\", sep=\"\\t\")\r\n",
    "\r\n",
    "# Set multi index df\r\n",
    "df_x = df.set_index(['order_date', 'city', 'customer_id'])\r\n",
    "\r\n",
    "# Print nama dan level dari multi index\r\n",
    "for name, level in zip(df_x.index.names, df_x.index.levels):\r\n",
    "    print(name,':',level)"
   ],
   "outputs": [
    {
     "output_type": "stream",
     "name": "stdout",
     "text": [
      "order_date : Index(['2019-01-01'], dtype='object', name='order_date')\n",
      "city : Index(['Bogor', 'Jakarta Pusat', 'Jakarta Selatan', 'Jakarta Utara',\n",
      "       'Makassar', 'Malang', 'Surabaya', 'Tangerang'],\n",
      "      dtype='object', name='city')\n",
      "customer_id : Int64Index([12681, 13963, 15649, 17091, 17228, 17450, 17470, 17511, 17616,\n",
      "            18055],\n",
      "           dtype='int64', name='customer_id')\n"
     ]
    }
   ],
   "metadata": {}
  },
  {
   "cell_type": "code",
   "execution_count": 1,
   "source": [
    "import pandas as pd\r\n",
    "\r\n",
    "# Buat dataframe\r\n",
    "df_week = pd.DataFrame({\r\n",
    "    \"day_number\" : [1,2,3,4,5,6,7],\r\n",
    "    \"week_type\"  : [\"weekday\" for i in range(5)]+[ \"weekend\" for i in range(2)]})\r\n",
    "\r\n",
    "# Definisikan indexnya dan assign\r\n",
    "df_week.index = [\"Mon\", \"Tue\", \"Wed\", \"Thu\", \"Fri\", \"Sat\", \"Sun\"]\r\n",
    "print(df_week)"
   ],
   "outputs": [
    {
     "output_type": "stream",
     "name": "stdout",
     "text": [
      "     day_number week_type\n",
      "Mon           1   weekday\n",
      "Tue           2   weekday\n",
      "Wed           3   weekday\n",
      "Thu           4   weekday\n",
      "Fri           5   weekday\n",
      "Sat           6   weekend\n",
      "Sun           7   weekend\n"
     ]
    }
   ],
   "metadata": {}
  },
  {
   "cell_type": "markdown",
   "source": [
    "---\r\n",
    "- pada code editor di atas hanya berlaku jika index yang diassign tersebut memiliki panjang yang sama dengan jumlah baris dari dataframe.\r\n",
    "- Jika ingin kembalikan dataframe ke index defaultnya yaitu dari 0 s/d jumlah baris data - 1, maka dapat menggunakan method .reset_index(drop=True), argument drop=True bertujuan untuk menghapus index lama. \r\n",
    "\r\n",
    "---"
   ],
   "metadata": {}
  },
  {
   "cell_type": "markdown",
   "source": [
    "\r\n",
    "## **SLICING**\r\n",
    "\r\n",
    "\r\n",
    "Terdapat 2 cara paling terkenal untuk slicing dataframe, yaitu dengan menggunakan method .loc dan .iloc pada variabel bertipe pandas DataFrame/Series. Method .iloc ditujukan untuk proses slicing berdasarkan index berupa nilai integer tertentu. Akan tetapi akan lebih sering menggunakan dengan method .loc karena lebih fleksibel.\r\n",
    "\r\n"
   ],
   "metadata": {}
  },
  {
   "cell_type": "code",
   "execution_count": 6,
   "source": [
    "import pandas as pd\r\n",
    "# Baca file sample_csv.csv\r\n",
    "df = pd.read_csv(\"https://storage.googleapis.com/dqlab-dataset/sample_csv.csv\")\r\n",
    "\r\n",
    "# Set index dari df sesuai instruksi\r\n",
    "df = df.set_index([\"order_date\",\"order_id\",\"product_id\"])\r\n",
    "\r\n",
    "# Slice sesuai intruksi\r\n",
    "df_slice = df.loc[(\"2019-01-01\",1612339,[\"P2154\",\"P2159\"]),:]\r\n",
    "\r\n",
    "print(\"Slice df:\\n\", df_slice)"
   ],
   "outputs": [
    {
     "output_type": "stream",
     "name": "stdout",
     "text": [
      "Slice df:\n",
      "                                 customer_id             city     province  \\\n",
      "order_date order_id product_id                                              \n",
      "2019-01-01 1612339  P2154             18055  Jakarta Selatan  DKI Jakarta   \n",
      "                    P2159             18055  Jakarta Selatan  DKI Jakarta   \n",
      "\n",
      "                                  brand  quantity  item_price  \n",
      "order_date order_id product_id                                 \n",
      "2019-01-01 1612339  P2154       BRAND_M         4     1745000  \n",
      "                    P2159       BRAND_M        24      310000  \n"
     ]
    }
   ],
   "metadata": {}
  },
  {
   "cell_type": "markdown",
   "source": [
    "---\r\n",
    "## **TRANSFORMING**\r\n",
    "Transform adalah ketika mengubah dataset yang ada menjadi entitas baru, dapat dilakukan dengan\r\n",
    "\r\n",
    "- konversi dari satu data type ke data type yang lain,\r\n",
    "- transpose dataframe\r\n",
    "- atau yang lainnya.\r\n",
    "\r\n",
    "Rumus :\r\n",
    "nama_dataframe[\"nama_kolom\"] = pd.to_datetime(nama_dataframe[\"nama_kolom\"])\r\n",
    "\r\n"
   ],
   "metadata": {}
  },
  {
   "cell_type": "code",
   "execution_count": 7,
   "source": [
    "import pandas as pd\r\n",
    "# Baca file sample_csv.csv\r\n",
    "df = pd.read_csv(\"https://storage.googleapis.com/dqlab-dataset/sample_csv.csv\")\r\n",
    "\r\n",
    "# Tampilkan tipe data\r\n",
    "print(\"Tipe data df:\\n\", df.dtypes)\r\n",
    "\r\n",
    "# Ubah tipe data kolom order_date menjadi datetime\r\n",
    "df[\"order_date\"] = pd.to_datetime(df[\"order_date\"])\r\n",
    "\r\n",
    "# Tampilkan tipe data df setelah transformasi\r\n",
    "print(\"\\nTipe data df setelah transformasi:\\n\", df.dtypes)"
   ],
   "outputs": [
    {
     "output_type": "stream",
     "name": "stdout",
     "text": [
      "Tipe data df:\n",
      " order_id        int64\n",
      "order_date     object\n",
      "customer_id     int64\n",
      "city           object\n",
      "province       object\n",
      "product_id     object\n",
      "brand          object\n",
      "quantity        int64\n",
      "item_price      int64\n",
      "dtype: object\n",
      "\n",
      "Tipe data df setelah transformasi:\n",
      " order_id                int64\n",
      "order_date     datetime64[ns]\n",
      "customer_id             int64\n",
      "city                   object\n",
      "province               object\n",
      "product_id             object\n",
      "brand                  object\n",
      "quantity                int64\n",
      "item_price              int64\n",
      "dtype: object\n"
     ]
    }
   ],
   "metadata": {}
  },
  {
   "cell_type": "markdown",
   "source": [
    "\r\n",
    "**Secara umum, untuk merubah ke numerik dapat menggunakan pd.to_numeric(), yaitu** \r\n",
    "\r\n",
    "nama_dataframe[\"nama_kolom\"] = pd.to_numeric(nama_dataframe[\"nama_kolom\"], downcast=\"tipe_data_baru\")\r\n",
    "\r\n",
    "---"
   ],
   "metadata": {}
  },
  {
   "cell_type": "markdown",
   "source": [
    "\r\n",
    "**Sedangkan untuk menjadi suatu kolom yang dapat dinyatakan sebagai kategory dapat menggunakan method .astype() pada dataframe, yaitu**\r\n",
    "\r\n",
    "nama_dataframe[\"nama_kolom\"] = nama_dataframe[\"nama_kolom\"].astype(\"category\")\r\n",
    "\r\n",
    "---"
   ],
   "metadata": {}
  },
  {
   "cell_type": "code",
   "execution_count": 2,
   "source": [
    "import pandas as pd\r\n",
    "# Baca file sample_csv.csv\r\n",
    "df = pd.read_csv(\"https://storage.googleapis.com/dqlab-dataset/sample_csv.csv\")\r\n",
    "# Tampilkan tipe data\r\n",
    "print(\"Tipe data df:\\n\", df.dtypes)\r\n",
    "# Ubah tipe data kolom quantity menjadi tipe data numerik float\r\n",
    "df[\"quantity\"] = pd.to_numeric(df[\"quantity\"], downcast=\"float\")\r\n",
    "# Ubah tipe data kolom city menjadi tipe data category\r\n",
    "df[\"city\"] = df[\"city\"].astype(\"category\")\r\n",
    "# Tampilkan tipe data df setelah transformasi\r\n",
    "print(\"\\nTipe data df setelah transformasi:\\n\", df.dtypes)"
   ],
   "outputs": [
    {
     "output_type": "stream",
     "name": "stdout",
     "text": [
      "Tipe data df:\n",
      " order_id        int64\n",
      "order_date     object\n",
      "customer_id     int64\n",
      "city           object\n",
      "province       object\n",
      "product_id     object\n",
      "brand          object\n",
      "quantity        int64\n",
      "item_price      int64\n",
      "dtype: object\n",
      "\n",
      "Tipe data df setelah transformasi:\n",
      " order_id          int64\n",
      "order_date       object\n",
      "customer_id       int64\n",
      "city           category\n",
      "province         object\n",
      "product_id       object\n",
      "brand            object\n",
      "quantity        float32\n",
      "item_price        int64\n",
      "dtype: object\n"
     ]
    }
   ],
   "metadata": {}
  },
  {
   "cell_type": "markdown",
   "source": [
    "---\r\n",
    "Method .apply() digunakan untuk menerapkan suatu fungsi python (yang dibuat dengan def atau anonymous dengan lambda) pada dataframe/series atau hanya kolom tertentu dari dataframe. \r\n",
    "\r\n",
    "---"
   ],
   "metadata": {}
  },
  {
   "cell_type": "markdown",
   "source": [
    "---\r\n",
    "Method .map() hanya dapat diterapkan pada series atau dataframe yang diakses satu kolom saja. Method ini digunakan untuk mensubstitusikan suatu nilai ke dalam tiap baris datanya.\r\n",
    "\r\n",
    "---"
   ],
   "metadata": {}
  },
  {
   "cell_type": "code",
   "execution_count": 3,
   "source": [
    "import pandas as pd\r\n",
    "# Baca file sample_csv.csv\r\n",
    "df = pd.read_csv(\"https://storage.googleapis.com/dqlab-dataset/sample_csv.csv\")\r\n",
    "# Cetak 5 baris teratas kolom brand\r\n",
    "print(\"Kolom brand awal:\\n\", df[\"brand\"].head())\r\n",
    "# Gunakan method apply untuk merubah isi kolom menjadi lower case\r\n",
    "df[\"brand\"] = df[\"brand\"].apply(lambda x: x.lower())\r\n",
    "# Cetak 5 baris teratas kolom brand\r\n",
    "print(\"Kolom brand setelah apply:\\n\", df[\"brand\"].head())\r\n",
    "# Gunakan method map untuk mengambil kode brand yaitu karakter terakhirnya\r\n",
    "df[\"brand\"] = df[\"brand\"].map(lambda x: x[-1])\r\n",
    "# Cetak 5 baris teratas kolom brand\r\n",
    "print(\"Kolom brand setelah map:\\n\", df[\"brand\"].head())"
   ],
   "outputs": [
    {
     "output_type": "stream",
     "name": "stdout",
     "text": [
      "Kolom brand awal:\n",
      " 0    BRAND_C\n",
      "1    BRAND_V\n",
      "2    BRAND_G\n",
      "3    BRAND_B\n",
      "4    BRAND_G\n",
      "Name: brand, dtype: object\n",
      "Kolom brand setelah apply:\n",
      " 0    brand_c\n",
      "1    brand_v\n",
      "2    brand_g\n",
      "3    brand_b\n",
      "4    brand_g\n",
      "Name: brand, dtype: object\n",
      "Kolom brand setelah map:\n",
      " 0    c\n",
      "1    v\n",
      "2    g\n",
      "3    b\n",
      "4    g\n",
      "Name: brand, dtype: object\n"
     ]
    }
   ],
   "metadata": {}
  },
  {
   "cell_type": "code",
   "execution_count": 4,
   "source": [
    "import numpy as np\r\n",
    "import pandas as pd\r\n",
    "# number generator, set angka seed menjadi suatu angka, bisa semua angka, supaya hasil random nya selalu sama ketika kita run\r\n",
    "np.random.seed(1234)\r\n",
    "# create dataframe 3 baris dan 4 kolom dengan angka random\r\n",
    "df_tr = pd.DataFrame(np.random.rand(3,4)) \r\n",
    "# Cetak dataframe\r\n",
    "print(\"Dataframe:\\n\", df_tr)\r\n",
    "# Cara 1 dengan tanpa define function awalnya, langsung pake fungsi anonymous lambda x\r\n",
    "df_tr1 = df_tr.applymap(lambda x: x**2+3*x+2)\r\n",
    "print(\"\\nDataframe - cara 1:\\n\", df_tr1)\r\n",
    "# Cara 2 dengan define function \r\n",
    "def qudratic_fun(x):\r\n",
    "\treturn x**2+3*x+2\r\n",
    "df_tr2 = df_tr.applymap(qudratic_fun)\r\n",
    "print(\"\\nDataframe - cara 2:\\n\", df_tr2)"
   ],
   "outputs": [
    {
     "output_type": "stream",
     "name": "stdout",
     "text": [
      "Dataframe:\n",
      "           0         1         2         3\n",
      "0  0.191519  0.622109  0.437728  0.785359\n",
      "1  0.779976  0.272593  0.276464  0.801872\n",
      "2  0.958139  0.875933  0.357817  0.500995\n",
      "\n",
      "Dataframe - cara 1:\n",
      "           0         1         2         3\n",
      "0  2.611238  4.253346  3.504789  4.972864\n",
      "1  4.948290  2.892085  2.905825  5.048616\n",
      "2  5.792449  5.395056  3.201485  3.753981\n",
      "\n",
      "Dataframe - cara 2:\n",
      "           0         1         2         3\n",
      "0  2.611238  4.253346  3.504789  4.972864\n",
      "1  4.948290  2.892085  2.905825  5.048616\n",
      "2  5.792449  5.395056  3.201485  3.753981\n"
     ]
    }
   ],
   "metadata": {}
  }
 ],
 "metadata": {
  "interpreter": {
   "hash": "43387ae2c7343e1aebc2cdbeb78cfc377146eb50b8af571122dd41c95c68e131"
  },
  "kernelspec": {
   "name": "python3",
   "display_name": "Python 3.9.4 64-bit ('.myenv': venv)"
  },
  "language_info": {
   "codemirror_mode": {
    "name": "ipython",
    "version": 3
   },
   "file_extension": ".py",
   "mimetype": "text/x-python",
   "name": "python",
   "nbconvert_exporter": "python",
   "pygments_lexer": "ipython3",
   "version": "3.9.4"
  },
  "orig_nbformat": 4
 },
 "nbformat": 4,
 "nbformat_minor": 2
}