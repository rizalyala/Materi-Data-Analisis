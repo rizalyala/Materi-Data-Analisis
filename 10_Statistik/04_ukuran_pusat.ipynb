{
 "cells": [
  {
   "cell_type": "markdown",
   "metadata": {},
   "source": [
    "# **Ukuran Pusat (Measures of Central Tendency)**\n",
    "\n",
    "Ukuran pusat (measures of central tendency) adalah statistika deskriptif yang dapat digunakan untuk membantu kita mengidentifikasi kasus-kasus tipikal di dalam sebuah sampel atau populasi\n",
    "\n",
    "Terdapat beberapa jenis ukuran pusat yang dapat digunakan untuk menganalisa data, diantaranya:\n",
    "\n",
    "Mean atau rerata\n",
    "Median\n",
    "Modus"
   ]
  },
  {
   "cell_type": "markdown",
   "metadata": {},
   "source": [
    "## **Rata-rata (Mean)**\n",
    "\n",
    "Rata-rata atau mean adalah salah satu ukuran pusat yang nilainya diperoleh dengan cara menjumlahkan semua nilai titik data yang ada lalu dibagi oleh jumlah data. Secara matematis hal ini dapat dirumuskan sebagai berikut: \n",
    "\n",
    "![A](data:image/png;base64,iVBORw0KGgoAAAANSUhEUgAAANUAAAA2CAYAAABQkNyvAAAHsUlEQVR4Ae2dvWvbTBzH+6/cJvAgyGDIEE/WZNEhposhgyCDoFBPxTwQTKGILCZDMYVgHiimUEwg4ELBQ0FDQEtQhuAOD85QnKGgoaAhoMHwfTi9VY5VW5blFyW/QNDr/e53n9P33nQ+vQD9EQEikCmBF5laI2NEgAiAREUPARHImACJKmOgZI4IkKjoGSACGRMgUWUMlMwRARLVss+A1YdSaMFcNtxG7rfQPxbQutlIZOkiuWlBOO7DShc6F6FIVMtm068eFKbtrKh6CoN2vWyiNnj/tQam9EhUG0S++1GRqFbLIxLVavzWHnpiwfigQq7IkPZEVE91jH700DiUIJeLkP8ZYDzJ2IsVRGUZbagVGXJZhHioQb8bovdPFVJFQrHSwOB+VV8tPJmaaht5uyp+P3yOm38OzFMZyqcRHJ6Yuy5kxsCYgt7PMfqvRTC2hv5FSlE51xrk4y5GD9zZEbovua8MypcxxpcqRMYgnK3aU3sqotpS3j57Ud22UTrsYhyA+NFGiYvqRIdjD9AoMLByC6arOP8me4j+eR/D6LkgfNJtGlFNhmgfVNH9GUTCj7momtAdG4O3AhiT0LrxHHNuO1BfypD3BYhlFd27INyi7RMRVZq8XYRmg9fzW1M5Nmy31Pdojb/UvJL/ImZc6aYD+VXVfUgZq2NgJyDMw/AH+/F/pQiBiZAen3ePNehxticO7N8RJd/3UOMFQFyH/UFHc09BjzcFH0xoZQZWaEKPpBUw0YmNX0axwCCWY/x+KUOLdS4BixS3WN8as+y4z2URrFCMv6Z0MeJxLZO3KXxbd5D8imqKjI3BG17yy3NLdetCQWJRTdmPHKSpqSLB+a79re4WAPIn9xGauupeO1DQ82snz2eG+rc4tU4FBfBEaqqpZCXL26kgWz54GqKamNB4cy/6/uhx7cAfuR0RlXnKm3vT/T3HtuFMAPt7AyITUbvwG7Z8tIwxlD4OEzwqT1BUCfM2AZyN3ZJbUY0vFAiMQTofAbwNHvSnfHSO3oTwuo9o+b41Ud33oLh9vA5Gbv8q6E/5zvImX0FF//dsvo8/V8FYCY3v0ZTM3uedSS4q69aAeTfHpj2CeTWENWf0dKGNODcTDKkvk7fjyybUIwlCpYXuuQr1nQa1HCmU4nxY87mciorPHOA1k4zWtQX9hJf8DOy94T9bOpoVv18SAbgtUVmXvNkpQD4zYXGxc1+ZBoM/sBML+jsZSlAzRfzFgwHtgEF6m/TVQDJROVeBD9HBk2jEY3QPuY8MwjvDG12NXubdnoU2HgUIDheKaom85bVYpQ39K29Ol1D/6tXu5ikDO2gjSd0euJXlNqeiApzrNqr7RchlCbVzE+ObDmp7Aor8PdCrJnr/RQYGfGLbEhUfcGgfFlGsSJCOOjDvTXSORAj7MuRKFc0L/7VANGcnY/SORVTPjLm1RTRI4j7Vrz7UPeaW7ubUAEhgzYH5QXYHZNTLcHw1uOhtF9qYvj08WiiqJfKWN/FtG/oJF5Hmj/R6ryu2ORVqsajcjrlXarm1gVvK/jlW4kbbQoK7tbM1US2LYTLG4G0N6ueh/w5ugK4RM6o5YzdZTTUTbJMnEohqKXf8PlfpRPea+j+7qDIByuUYjj1bsC5lO+XNi0WV0vAuBstEVO6I7zozi7/4lFB804F+ZcC4MtA7KSUc/ePD8N6Axy7yd33itUts7ZjSY/f9pBDycZvaBw3otz0oryLvMVOaTxPseYjKGqDB35Hse6NubhPxvV+ypaG2xjD2oOH3uf60Bnh/oX27xkhzbNr6qoKVm9CDQZ4fHcgFCVW1ju7tOgu/v0N7HqL6e/rpChHInMBiUeV4YmPmtMggEUhAYIGo8j2xMUH66RYikDmB+aJadWLjXRfKX+aozcypC+9T0Q8nnmaeXjJIBNZOYL6ocj6xce30KAIiEENgvqimAuzOxMa492V0LjpaSPuPn4epR3nNB8lFlWZiY6rmXx39lX8Bu2ZqZJ4IzCEwV1TLTGycEwddIgLPisAcUS0xsfFZIaPEEoH5BOaIaomJjfPjoKtE4FkRmCuqZ0WCEksEMiJAosoIJJkhAgEBElVAgrZEICMCJKqMQJIZIhAQIFEFJPK2fRiicyShuC+ieNzB0LZgnNdRDVbALdfRjfn1c96SmUd/SVR5zDUAw48S5H9HgOGttiTuSVCDdS4mBjT+C+3oYqM5TWce3SZR5THX3Nkt3qIto0+yu0CLdGb+WaAlENUWFz/JI9asfCZRZUVyk3bCNQ29NSkYq3kr2gY++OvKJ1srMAhE26wIkKiyIrkNO46OJm/mRRcRBeCtFSjs9neqtsFrQ3GSqDYEei3RXGveehb8owxhBP6afQUNJl9XcNcXggn9fjo7JKoc52XQn5paJs5frbf0YQjMfG0kx4nNkeskqhxl1rSr/oTnRx9l8FbDZdAMgP/KQJyqxaYt0NF6CJCo1sN1A1ZNtAps9qPU7mq4IsR9CdKb4CNzG3CHoggJkKhCFLRDBLIhQKLKhiNZIQIhARJViIJ2iEA2BEhU2XAkK0QgJECiClHQDhHIhgCJKhuOZIUIhARIVCEK2iEC2RAgUWXDkawQgZAAiSpEQTtEIBsCJKpsOJIVIhAS+B+KwfpLU1b+5QAAAABJRU5ErkJggg==)\n",
    "\n",
    "Dimana:\n",
    "\n",
    "x¯ adalah rerata\n",
    "x1,x2,...,xn adalah titik data\n",
    "n adalah jumlah data\n",
    "Kita dapat menghitung nilai rata-rata menggunakan method .mean() pada numpy atau pandas sebagaimana pada contoh berikut:\n",
    "\n"
   ]
  },
  {
   "cell_type": "raw",
   "metadata": {},
   "source": [
    "# mengambil hanya data untuk produk 'A'\n",
    "produk_A = raw_data[raw_data['Produk'] == 'A']\n",
    " \n",
    "# menghitung rerata pendapatan menggunakan method .mean pada objek pandas DataFrame\n",
    "print (produk_A['Pendapatan'].mean())\n",
    " \n",
    "# menghitung rerata pendapatan menggunakan method .mean pada objek pandas DataFrame dengan numpy\n",
    "print (np.mean(produk_A['Pendapatan']))"
   ]
  },
  {
   "cell_type": "markdown",
   "metadata": {},
   "source": [
    "## **Median**\n",
    "\n",
    "Median adalah salah satu ukuran pusat yang nilainya terletak di tengah titik data. Sebagai gambaran, jika kita memiliki titik data bernilai 1, 2, 3, 4, 4, 5, 6 maka median dari sekumpulan titik data tersebut adalah 4. Namun jika kita memiliki titik data bernilai 1, 2, 3, 3 maka media dari sekumpulan titik data tersebut adalah:\n",
    "\n",
    "![A](data:image/png;base64,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)\n",
    "\n",
    "Kita dapat menemukan nilai median dengan menggunakan method .median() pada numpy maupun pandas sebagaimana contoh berikut:"
   ]
  },
  {
   "cell_type": "raw",
   "metadata": {},
   "source": [
    "print (raw_data)\n",
    "# Hitung median dari pendapatan menggunakan pandas\n",
    "print (produk_A['Pendapatan'].median())\n",
    " \n",
    "# Hitung median dari pendapatan menggunakan numpy\n",
    "print (np.median(produk_A['Pendapatan']))"
   ]
  },
  {
   "cell_type": "markdown",
   "metadata": {},
   "source": [
    "# **Modus**\n",
    "Modus didefinisikan sebagai data yang memiliki frekuensi kemunculan terbanyak/terbesar. Sebagai contoh, jika terdapat titik data seperti berikut: 1, 1, 1, 1, 2, 3, 3, 4 maka modus dari data tersebut adalah 1 karena 1 muncul sebanyak 4 kali, lebih banyak dibanding titik data lainnya.\n",
    "\n",
    "Kita dapat menggunakan method .value_counts() pada pandas sebagaimana contoh berikut:"
   ]
  },
  {
   "cell_type": "raw",
   "metadata": {},
   "source": [
    "# Melihat jumlah dari masing-masing produk\n",
    "print(raw_data['Produk'].value_counts())"
   ]
  },
  {
   "cell_type": "markdown",
   "metadata": {},
   "source": [
    "## **Kuantil**\n",
    "\n",
    "Kuantil adalah nilai-nilai data yang membagi data yang telah diurutkan sebelumnya menjadi beberapa bagian yang sama besar ukurannya. Beberapa ukuran fraktil ini diantaranya adalah:\n",
    "\n",
    "Kuartil: Adalah kuantil yang membagi data menjadi empat bagian sama besar. Kuartil ke-2 dari adalah median dari data tersebut.\n",
    "Desil: Adalah kuantil yang membagi data menjadi 10 bagian sama besar.\n",
    "Persentil: Adalah kuantil yang membagi data menjadi 100 bagian sama besar.\n",
    "Untuk mencari fraktil dari data, kita dapat menggunakan method .quantile dari pandas atau numpy sebagaimana contoh berikut:"
   ]
  },
  {
   "cell_type": "raw",
   "metadata": {},
   "source": [
    "# mencari median atau 50% dari data menggunakan pandas\n",
    "print(raw_data['Pendapatan'].quantile(q = 0.5))\n",
    " \n",
    "# mencari median atau 50% dari data menggunakan pandas\n",
    "print(np.quantile(raw_data['Pendapatan'], q=0.5))"
   ]
  }
 ],
 "metadata": {
  "interpreter": {
   "hash": "9d021e41df31b3b4fa391518e1a2a76707dbabcbc300b303176a546c9727ba24"
  },
  "kernelspec": {
   "display_name": "Python 3.10.2 64-bit",
   "language": "python",
   "name": "python3"
  },
  "language_info": {
   "name": "python",
   "version": "3.10.2"
  },
  "orig_nbformat": 4
 },
 "nbformat": 4,
 "nbformat_minor": 2
}
