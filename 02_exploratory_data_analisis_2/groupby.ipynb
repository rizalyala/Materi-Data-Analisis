{
 "cells": [
  {
   "cell_type": "markdown",
   "source": [
    "\r\n",
    "# **.groupby menggunakan Pandas**\r\n",
    "Kegunaan **.groupby** adalah **mencari summary dari data frame dengan menggunakan aggregate** dari kolom tertentu.\r\n",
    "\r\n",
    "---"
   ],
   "metadata": {}
  },
  {
   "cell_type": "code",
   "execution_count": 1,
   "source": [
    "import pandas as pd\r\n",
    "order_df = pd.read_csv(\"https://storage.googleapis.com/dqlab-dataset/order.csv\")\r\n",
    "\r\n",
    "# Hitung rata rata dari price per payment_type\r\n",
    "rata_rata = order_df[\"price\"].groupby(order_df[\"payment_type\"]).mean()\r\n",
    "print(rata_rata)"
   ],
   "outputs": [
    {
     "output_type": "stream",
     "name": "stdout",
     "text": [
      "payment_type\n",
      "credit card        2.600706e+06\n",
      "debit card         2.611974e+06\n",
      "e-wallet           2.598562e+06\n",
      "virtual account    2.619786e+06\n",
      "Name: price, dtype: float64\n"
     ]
    }
   ],
   "metadata": {}
  },
  {
   "cell_type": "markdown",
   "source": [
    "---\r\n",
    "Penjelasan: komputasi diatas menggunakan kolom ‘payment_type’ sebagai aggregate dan kemudian menghitung mean dari kolom ‘Price’ pada tiap - tiap aggregate tersebut.\r\n",
    "\r\n",
    "---"
   ],
   "metadata": {}
  }
 ],
 "metadata": {
  "interpreter": {
   "hash": "43387ae2c7343e1aebc2cdbeb78cfc377146eb50b8af571122dd41c95c68e131"
  },
  "kernelspec": {
   "display_name": "Python 3.9.4 64-bit ('.myenv': venv)",
   "name": "python3"
  },
  "language_info": {
   "name": "python",
   "version": ""
  },
  "metadata": {
   "interpreter": {
    "hash": "43387ae2c7343e1aebc2cdbeb78cfc377146eb50b8af571122dd41c95c68e131"
   }
  },
  "orig_nbformat": 2
 },
 "nbformat": 4,
 "nbformat_minor": 2
}