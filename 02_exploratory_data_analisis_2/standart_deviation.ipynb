{
 "cells": [
  {
   "cell_type": "markdown",
   "source": [
    "\r\n",
    "# **Standar Deviasi dan Varians pada Pandas**\r\n",
    "\r\n",
    "\r\n",
    "\r\n",
    "Varians dan standar deviasi juga merupakan suatu ukuran dispersi atau variasi. \r\n",
    "\r\n",
    "**Standar deviasi** merupakan ukuran dispersi(ukuran yang menyatakan seberapa jauh penyimpangan nilai-nilai data dari nilai-nilai pusatnya atau ukuran yang menyatakan seberapa banyak nilai-nilai data yang berbeda dengan nilai-nilai pusatnya) yang paling banyak dipakai. Hal ini mungkin karena standar deviasi mempunyai satuan ukuran yang sama dengan satuan ukuran data asalnya. \r\n",
    "\r\n",
    "Sedangkan **varians** memiliki satuan kuadrat dari data asalnya (misalnya cm^2).\r\n",
    "\r\n",
    "---"
   ],
   "metadata": {}
  },
  {
   "cell_type": "code",
   "execution_count": 6,
   "source": [
    "# Standart Deviation / Persebaran\r\n",
    "\r\n",
    "import pandas as pd\r\n",
    "order_df = pd.read_csv(\"https://storage.googleapis.com/dqlab-dataset/order.csv\")\r\n",
    "# Standar variasi kolom product_weight_gram\r\n",
    "stdd = order_df.loc[:,\"product_weight_gram\"].std()\r\n",
    "# Varians kolom product_weight_gram\r\n",
    "varr = order_df.loc[:,\"product_weight_gram\"].var()\r\n",
    "\r\n",
    "print(\"Standar deviasi dari product_weight_gram : \", stdd)\r\n",
    "print(\"Varians dari product_weight_gram : \", varr)"
   ],
   "outputs": [
    {
     "output_type": "stream",
     "name": "stdout",
     "text": [
      "Standar deviasi dari product_weight_gram :  3929.8968753726213\n",
      "Varians dari product_weight_gram :  15444089.451063491\n"
     ]
    }
   ],
   "metadata": {}
  }
 ],
 "metadata": {
  "interpreter": {
   "hash": "7eff29eea51cc0875cdf45c3d54f4b1ae9d9d66abcf4645c66748e224d4b6dc2"
  },
  "kernelspec": {
   "name": "python3",
   "display_name": "Python 3.9.4 64-bit"
  },
  "language_info": {
   "name": "python",
   "version": "3.9.4",
   "mimetype": "text/x-python",
   "codemirror_mode": {
    "name": "ipython",
    "version": 3
   },
   "pygments_lexer": "ipython3",
   "nbconvert_exporter": "python",
   "file_extension": ".py"
  },
  "metadata": {
   "interpreter": {
    "hash": "43387ae2c7343e1aebc2cdbeb78cfc377146eb50b8af571122dd41c95c68e131"
   }
  },
  "orig_nbformat": 2
 },
 "nbformat": 4,
 "nbformat_minor": 2
}