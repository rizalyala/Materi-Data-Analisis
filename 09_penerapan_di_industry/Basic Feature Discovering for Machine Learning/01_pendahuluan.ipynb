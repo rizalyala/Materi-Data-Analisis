{
 "cells": [
  {
   "cell_type": "markdown",
   "source": [
    "Feature Engineering\n",
    "--\n",
    "\n",
    "Feature Engineering adalah proses dimana kita menerapkan pengetahuan yang kita punya untuk mendapatkan informasi yang lebih dari data yang kita punya. Contohnya dari KTP seseorang, anda sebenarnya dapat mendapatkan domisili, pembuatan KTP, tanggal lahir, usia, dan jenis kelamin. Anda dapat menggolongkan orang-orang dengan kategori yang sama untuk membuat machine learning lebih mudah membedakan ciri orang."
   ],
   "metadata": {}
  },
  {
   "cell_type": "markdown",
   "source": [
    "Dataset yang digunakan\n",
    "Di pembahasan kali ini saya menggunakan dataset titanic yang sangat terkenal dan sering digunakan. Dataset ini berasal dari Kaggle, salah satu situs kompetisi machine learning. Dataset ini terdiri dari 2 file, titanic_train.csv dan titanic_test.csv.\n",
    "\n",
    "Untuk lebih mudah mengenali data ini, kita akan langsung memulai praktek untuk meng-eksplor data dengan Python."
   ],
   "metadata": {}
  },
  {
   "cell_type": "markdown",
   "source": [
    "Import Library yang digunakan\n",
    "--"
   ],
   "metadata": {}
  },
  {
   "cell_type": "code",
   "execution_count": 1,
   "source": [
    "import numpy as np\r\n",
    "import pandas as pd\r\n",
    "import matplotlib.pyplot as plt\r\n",
    "import seaborn as sns\r\n",
    "sns.set(style = \"darkgrid\")\r\n",
    "from sklearn.ensemble import RandomForestClassifier\r\n",
    "from sklearn.preprocessing import OneHotEncoder, LabelEncoder, StandardScaler\r\n",
    "from sklearn.metrics import roc_curve, auc\r\n",
    "from sklearn.model_selection import StratifiedKFold\r\n",
    "\r\n",
    "import string\r\n",
    "import warnings\r\n",
    "warnings.filterwarnings(\"ignore\", category=DeprecationWarning)"
   ],
   "outputs": [],
   "metadata": {}
  },
  {
   "cell_type": "markdown",
   "source": [
    "Import Data Set dan Concat Data Frame\n",
    "-- "
   ],
   "metadata": {}
  },
  {
   "cell_type": "markdown",
   "source": [
    "Dataset ini adalah dataset Titanic asli yang didapatkan dari Kaggle. Berisi data dari semua orang yang ikut di dalam Kapal Titanic ratusan tahun yang lalu.\n",
    "\n",
    "Jadi, di dalam dataset ini kita mempunyai target variable/label yaitu Survived. Semua kolom/fitur lain akan digunakan untuk menentukkan apakah penumpang ini selamat/tidak dari kejadian Titanic.\n",
    "\n",
    "Data Train digunakan untuk melatih model machine learning kita. Data Test nantinya digunakan untuk menebak akurasi model kita di Kaggle.\n",
    "\n",
    "Pada penjelasan ini teman-teman akan dijelakan untuk melakukan membaca data dari file csv dan melakukan concat(penggabungan) dataframe dengan membuat sebuah fungsi.\n",
    "\n",
    "1. Buat Function concat_df digunakan untuk menggabungkan dua dataset/dataframe dari 2 csv menjadi satu dataframe"
   ],
   "metadata": {}
  },
  {
   "cell_type": "raw",
   "source": [
    "def concat_df(train_data, test_data):\r\n",
    "# Returns a concatenated df of training and test set\r\n",
    "return pd.concat([train_data, test_data], sort=True).reset_index(drop=True)"
   ],
   "metadata": {}
  },
  {
   "cell_type": "markdown",
   "source": [
    "2. Untuk memasukkan csv ke dalam Pandas Dataframe, kita harus menggunakan pd.read_csv()\n",
    "Data train kita masukkan ke df_train dan Data test kita masukkan ke df_test. df_all adalah gabungan dari kedua dataframe."
   ],
   "metadata": {}
  },
  {
   "cell_type": "raw",
   "source": [
    "df_train = pd.read_csv('https://storage.googleapis.com/dqlab-dataset/challenge/feature-engineering/titanic_train.csv')\r\n",
    "df_test = pd.read_csv('https://storage.googleapis.com/dqlab-dataset/challenge/feature-engineering/titanic_test.csv')\r\n",
    "df_all = concat_df(df_train, df_test)"
   ],
   "metadata": {}
  },
  {
   "cell_type": "markdown",
   "source": [
    "3. Kita dapat menamai tiap dataframe dengan memberikan \"name\" untuk masing-masing dataframe dengan cara"
   ],
   "metadata": {}
  },
  {
   "cell_type": "raw",
   "source": [
    "df_train.name = 'Training Set'\r\n",
    "df_test.name = 'Test Set'\r\n",
    "df_all.name = 'All Set'"
   ],
   "metadata": {}
  },
  {
   "cell_type": "markdown",
   "source": [
    "4. dfs adalah list yang berisi kedua dataframe."
   ],
   "metadata": {}
  },
  {
   "cell_type": "raw",
   "source": [
    "dfs = [df_train, df_test]"
   ],
   "metadata": {}
  },
  {
   "cell_type": "markdown",
   "source": [
    "Maka seperti ini keseluruhannya"
   ],
   "metadata": {}
  },
  {
   "cell_type": "code",
   "execution_count": 1,
   "source": [
    "import pandas as pd\r\n",
    "\r\n",
    "def concat_df(train_data, test_data):\r\n",
    "    return pd.concat([train_data, test_data], sort=True).reset_index(drop=True)\r\n",
    "\r\n",
    "df_train = pd.read_csv('https://storage.googleapis.com/dqlab-dataset/challenge/feature-engineering/titanic_train.csv')\r\n",
    "df_test = pd.read_csv('https://storage.googleapis.com/dqlab-dataset/challenge/feature-engineering/titanic_test.csv')\r\n",
    "df_all = concat_df(df_train, df_test)\r\n",
    "\r\n",
    "df_train.name = 'Training Set'\r\n",
    "df_test.name = 'Test Set'\r\n",
    "df_all.name = 'All Set'\r\n",
    "\r\n",
    "dfs = [df_train, df_test]"
   ],
   "outputs": [],
   "metadata": {}
  }
 ],
 "metadata": {
  "kernelspec": {
   "name": "python3",
   "display_name": "Python 3.9.4 64-bit"
  },
  "language_info": {
   "codemirror_mode": {
    "name": "ipython",
    "version": 3
   },
   "file_extension": ".py",
   "mimetype": "text/x-python",
   "name": "python",
   "nbconvert_exporter": "python",
   "pygments_lexer": "ipython3",
   "version": "3.9.4"
  },
  "interpreter": {
   "hash": "7eff29eea51cc0875cdf45c3d54f4b1ae9d9d66abcf4645c66748e224d4b6dc2"
  }
 },
 "nbformat": 4,
 "nbformat_minor": 5
}