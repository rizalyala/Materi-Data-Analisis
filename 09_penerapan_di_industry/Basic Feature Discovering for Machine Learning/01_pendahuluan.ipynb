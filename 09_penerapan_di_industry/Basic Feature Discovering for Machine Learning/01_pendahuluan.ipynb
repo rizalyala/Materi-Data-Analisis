{
 "cells": [
  {
   "cell_type": "markdown",
   "id": "79e7c63b-3750-4d21-acce-19d35d33421b",
   "metadata": {},
   "source": [
    "Feature Engineering\n",
    "--\n",
    "\n",
    "Feature Engineering adalah proses dimana kita menerapkan pengetahuan yang kita punya untuk mendapatkan informasi yang lebih dari data yang kita punya. Contohnya dari KTP seseorang, anda sebenarnya dapat mendapatkan domisili, pembuatan KTP, tanggal lahir, usia, dan jenis kelamin. Anda dapat menggolongkan orang-orang dengan kategori yang sama untuk membuat machine learning lebih mudah membedakan ciri orang."
   ]
  },
  {
   "cell_type": "markdown",
   "id": "559f097f-3185-495e-806e-8deafb3bda84",
   "metadata": {},
   "source": [
    "Dataset yang digunakan\n",
    "Di pembahasan kali ini saya menggunakan dataset titanic yang sangat terkenal dan sering digunakan. Dataset ini berasal dari Kaggle, salah satu situs kompetisi machine learning. Dataset ini terdiri dari 2 file, titanic_train.csv dan titanic_test.csv.\n",
    "\n",
    "Untuk lebih mudah mengenali data ini, kita akan langsung memulai praktek untuk meng-eksplor data dengan Python."
   ]
  },
  {
   "cell_type": "markdown",
   "id": "1e9760e6-60bc-403e-9239-aa455d170fdd",
   "metadata": {},
   "source": [
    "Import Library yang digunakan\n",
    "--"
   ]
  },
  {
   "cell_type": "code",
   "execution_count": 1,
   "id": "08276cae-76a7-4bc8-b5d4-ca827a3391f9",
   "metadata": {},
   "outputs": [],
   "source": [
    "import numpy as np\n",
    "import pandas as pd\n",
    "import matplotlib.pyplot as plt\n",
    "import seaborn as sns\n",
    "sns.set(style = \"darkgrid\")\n",
    "from sklearn.ensemble import RandomForestClassifier\n",
    "from sklearn.preprocessing import OneHotEncoder, LabelEncoder, StandardScaler\n",
    "from sklearn.metrics import roc_curve, auc\n",
    "from sklearn.model_selection import StratifiedKFold\n",
    "\n",
    "import string\n",
    "import warnings\n",
    "warnings.filterwarnings(\"ignore\", category=DeprecationWarning)"
   ]
  },
  {
   "cell_type": "markdown",
   "id": "6a1a1058-3caa-4ba7-933f-345ee755992a",
   "metadata": {},
   "source": [
    "Import Data Set dan Concat Data Frame\n",
    "-- "
   ]
  },
  {
   "cell_type": "markdown",
   "id": "d9e619bb-e36e-41c3-8f55-3520826351e5",
   "metadata": {},
   "source": [
    "Dataset ini adalah dataset Titanic asli yang didapatkan dari Kaggle. Berisi data dari semua orang yang ikut di dalam Kapal Titanic ratusan tahun yang lalu.\n",
    "\n",
    "Jadi, di dalam dataset ini kita mempunyai target variable/label yaitu Survived. Semua kolom/fitur lain akan digunakan untuk menentukkan apakah penumpang ini selamat/tidak dari kejadian Titanic.\n",
    "\n",
    "Data Train digunakan untuk melatih model machine learning kita. Data Test nantinya digunakan untuk menebak akurasi model kita di Kaggle.\n",
    "\n",
    "Pada penjelasan ini teman-teman akan dijelakan untuk melakukan membaca data dari file csv dan melakukan concat(penggabungan) dataframe dengan membuat sebuah fungsi.\n",
    "\n",
    "1. Buat Function concat_df digunakan untuk menggabungkan dua dataset/dataframe dari 2 csv menjadi satu dataframe"
   ]
  },
  {
   "cell_type": "raw",
   "id": "4ef9bfa8-ed84-42e5-a13b-37f04ce45f7c",
   "metadata": {},
   "source": [
    "def concat_df(train_data, test_data):\n",
    "# Returns a concatenated df of training and test set\n",
    "return pd.concat([train_data, test_data], sort=True).reset_index(drop=True)"
   ]
  },
  {
   "cell_type": "markdown",
   "id": "c112b15e-4a69-45bd-b1dc-1e4a0b8f26a1",
   "metadata": {},
   "source": [
    "2. Untuk memasukkan csv ke dalam Pandas Dataframe, kita harus menggunakan pd.read_csv()\n",
    "Data train kita masukkan ke df_train dan Data test kita masukkan ke df_test. df_all adalah gabungan dari kedua dataframe."
   ]
  },
  {
   "cell_type": "raw",
   "id": "8f4bd11d-5078-415c-a6a6-2b94520568a4",
   "metadata": {},
   "source": [
    "df_train = pd.read_csv('https://storage.googleapis.com/dqlab-dataset/challenge/feature-engineering/titanic_train.csv')\n",
    "df_test = pd.read_csv('https://storage.googleapis.com/dqlab-dataset/challenge/feature-engineering/titanic_test.csv')\n",
    "df_all = concat_df(df_train, df_test)"
   ]
  },
  {
   "cell_type": "markdown",
   "id": "f6d9a087-88aa-45e5-b115-45a80fc653ec",
   "metadata": {},
   "source": [
    "3. Kita dapat menamai tiap dataframe dengan memberikan \"name\" untuk masing-masing dataframe dengan cara"
   ]
  },
  {
   "cell_type": "raw",
   "id": "18f30d4f-e9a3-4410-af40-86a53dbaf5b0",
   "metadata": {},
   "source": [
    "df_train.name = 'Training Set'\n",
    "df_test.name = 'Test Set'\n",
    "df_all.name = 'All Set'"
   ]
  },
  {
   "cell_type": "markdown",
   "id": "1a81241f-957f-46d5-a955-03640a2c686c",
   "metadata": {},
   "source": [
    "4. dfs adalah list yang berisi kedua dataframe."
   ]
  },
  {
   "cell_type": "raw",
   "id": "e8394a3d-8bff-4231-b717-d4d07bac5a37",
   "metadata": {},
   "source": [
    "dfs = [df_train, df_test]"
   ]
  },
  {
   "cell_type": "markdown",
   "id": "f7c72241-6632-4f2d-bb19-9459271c8145",
   "metadata": {},
   "source": [
    "Maka seperti ini keseluruhannya"
   ]
  },
  {
   "cell_type": "code",
   "execution_count": 5,
   "id": "d461926a-10a7-471f-85cd-d461b20de9a0",
   "metadata": {},
   "outputs": [],
   "source": [
    "import pandas as pd\n",
    "\n",
    "def concat_df(train_data, test_data):\n",
    "    return pd.concat([train_data, test_data], sort=True).reset_index(drop=True)\n",
    "\n",
    "df_train = pd.read_csv('https://storage.googleapis.com/dqlab-dataset/challenge/feature-engineering/titanic_train.csv')\n",
    "df_test = pd.read_csv('https://storage.googleapis.com/dqlab-dataset/challenge/feature-engineering/titanic_test.csv')\n",
    "df_all = concat_df(df_train, df_test)\n",
    "\n",
    "df_train.name = 'Training Set'\n",
    "df_test.name = 'Test Set'\n",
    "df_all.name = 'All Set'\n",
    "\n",
    "dfs = [df_train, df_test]"
   ]
  },
  {
   "cell_type": "code",
   "execution_count": null,
   "id": "08bb655b-1a8e-4dfc-b3fe-97a1e4c340ca",
   "metadata": {},
   "outputs": [],
   "source": []
  }
 ],
 "metadata": {
  "kernelspec": {
   "display_name": "Python 3 (ipykernel)",
   "language": "python",
   "name": "python3"
  },
  "language_info": {
   "codemirror_mode": {
    "name": "ipython",
    "version": 3
   },
   "file_extension": ".py",
   "mimetype": "text/x-python",
   "name": "python",
   "nbconvert_exporter": "python",
   "pygments_lexer": "ipython3",
   "version": "3.9.4"
  }
 },
 "nbformat": 4,
 "nbformat_minor": 5
}
