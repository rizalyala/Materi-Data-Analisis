{
 "cells": [
  {
   "cell_type": "markdown",
   "source": [
    "Penjelasan dari dataset\n",
    "--\n",
    "\n",
    "- PassengerId adalah id pada row, maka tidak ada pengaruh terhadap target yang dicari\n",
    "- Survived adalah target yang akan diprediksi, nilai 0 = Not Survived dan nilai 1 = Survived\n",
    "- Pclass (Passenger Class) adalah kategori level sosial ekonomi penumpang dengan nilai (1, 2 atau 3):\n",
    "- a. 1 = Upper Class\n",
    "- b. 2 = Middle Class\n",
    "- c. 3 = Lower Class\n",
    "- Name, Sex dan Age merupakan data self-explanatory\n",
    "- SibSp adalah jumlah saudara dari penumpang\n",
    "- Parch adalah jumlah Orang Tua dan anak dari penumpang\n",
    "- Ticket adalah jumlah tiket penumpang\n",
    "- Fare adalah tarif yang di kenakan kepada penumpang\n",
    "- Cabin adalah nomor kabin penumpang\n",
    "- Embarked adalah pelabuhan pemberangkatan ada 3 pelabuhan (C, Q atau S):\n",
    "- a. C = Cherbourg\n",
    "- b. Q = Queenstown\n",
    "- c. S = Southampton"
   ],
   "metadata": {}
  },
  {
   "cell_type": "markdown",
   "source": [
    "Exploring Data\n",
    "--\n",
    "\n",
    "Untuk mengetahui bentuk dari dataframe kita, berapa banyak row dan column yang ada di dalamnya, kita dapat menggunakan .shape."
   ],
   "metadata": {}
  },
  {
   "cell_type": "raw",
   "source": [
    "df.shape #untuk mengeluarkan array yang berisi row dan column\r\n",
    "df.shape[0] #untuk mendapatkan row\r\n",
    "df.shape[1] #untuk mendapatkan column"
   ],
   "metadata": {}
  },
  {
   "cell_type": "code",
   "execution_count": null,
   "source": [
    "import pandas as pd\r\n",
    "\r\n",
    "def concat_df(train_data, test_data):\r\n",
    "\treturn pd.concat([train_data, test_data], sort=True).reset_index(drop=True)\r\n",
    "\r\n",
    "df_train = pd.read_csv('https://storage.googleapis.com/dqlab-dataset/challenge/feature-engineering/titanic_train.csv')\r\n",
    "df_test = pd.read_csv('https://storage.googleapis.com/dqlab-dataset/challenge/feature-engineering/titanic_test.csv')\r\n",
    "df_all = concat_df(df_train, df_test)\r\n",
    "df_train.name = 'Training Set'\r\n",
    "df_test.name = 'Test Set'\r\n",
    "df_all.name = 'All Set' \r\n",
    "dfs = [df_train, df_test]\r\n",
    "\r\n",
    "print('Number of Training Examples = {}'.format(df_train.shape[0]))\r\n",
    "print('Number of Test Examples = {}\\n'.format(df_test.shape[0]))\r\n",
    "print('Training X Shape = {}'.format(df_train.shape))\r\n",
    "print('Training y Shape = {}\\n'.format(df_train['Survived'].shape[0]))\r\n",
    "print('Test X Shape = {}'.format(df_test.shape))\r\n",
    "print('Test y Shape = {}\\n'.format(df_test.shape[0]))\r\n",
    "print(df_train.columns)\r\n",
    "print(df_test.columns)"
   ],
   "outputs": [],
   "metadata": {}
  },
  {
   "cell_type": "markdown",
   "source": [
    "Missing Value dan Contoh data\n",
    "--\n",
    "\n",
    "Salah satu cara untuk menemukan Missing value pada data Anda dapat menggunakan"
   ],
   "metadata": {}
  },
  {
   "cell_type": "raw",
   "source": [
    ".info(memory_usage=False)"
   ],
   "metadata": {}
  },
  {
   "cell_type": "markdown",
   "source": [
    "Kita dapat melihat bahwa ada beberapa data yang kosong di kolom 'Embarked, 'Age', dan 'Cabin'\n",
    "\n",
    "Untuk melihat bagian awal dari data Anda dapat menggunakan"
   ],
   "metadata": {}
  },
  {
   "cell_type": "raw",
   "source": [
    ".head(10)"
   ],
   "metadata": {}
  },
  {
   "cell_type": "code",
   "execution_count": 2,
   "source": [
    "import pandas as pd\n",
    "\n",
    "def concat_df(train_data, test_data):\n",
    "\treturn pd.concat([train_data, test_data], sort=True).reset_index(drop=True)\n",
    "\n",
    "df_train = pd.read_csv('https://storage.googleapis.com/dqlab-dataset/challenge/feature-engineering/titanic_train.csv')\n",
    "df_test = pd.read_csv('https://storage.googleapis.com/dqlab-dataset/challenge/feature-engineering/titanic_test.csv')\n",
    "df_all = concat_df(df_train, df_test)\n",
    "df_train.name = 'Training Set'\n",
    "df_test.name = 'Test Set'\n",
    "df_all.name = 'All Set' \n",
    "dfs = [df_train, df_test]\n",
    "\n",
    "df_train.info(memory_usage = False)\n",
    "print(df_train.head(10))"
   ],
   "outputs": [
    {
     "output_type": "stream",
     "name": "stdout",
     "text": [
      "<class 'pandas.core.frame.DataFrame'>\n",
      "RangeIndex: 891 entries, 0 to 890\n",
      "Data columns (total 12 columns):\n",
      " #   Column       Non-Null Count  Dtype  \n",
      "---  ------       --------------  -----  \n",
      " 0   PassengerId  891 non-null    int64  \n",
      " 1   Survived     891 non-null    int64  \n",
      " 2   Pclass       891 non-null    int64  \n",
      " 3   Name         891 non-null    object \n",
      " 4   Sex          891 non-null    object \n",
      " 5   Age          714 non-null    float64\n",
      " 6   SibSp        891 non-null    int64  \n",
      " 7   Parch        891 non-null    int64  \n",
      " 8   Ticket       891 non-null    object \n",
      " 9   Fare         891 non-null    float64\n",
      " 10  Cabin        204 non-null    object \n",
      " 11  Embarked     889 non-null    object \n",
      "dtypes: float64(2), int64(5), object(5)   PassengerId  Survived  Pclass  \\\n",
      "0            1         0       3   \n",
      "1            2         1       1   \n",
      "2            3         1       3   \n",
      "3            4         1       1   \n",
      "4            5         0       3   \n",
      "5            6         0       3   \n",
      "6            7         0       1   \n",
      "7            8         0       3   \n",
      "8            9         1       3   \n",
      "9           10         1       2   \n",
      "\n",
      "                                                Name     Sex   Age  SibSp  \\\n",
      "0                            Braund, Mr. Owen Harris    male  22.0      1   \n",
      "1  Cumings, Mrs. John Bradley (Florence Briggs Th...  female  38.0      1   \n",
      "2                             Heikkinen, Miss. Laina  female  26.0      0   \n",
      "3       Futrelle, Mrs. Jacques Heath (Lily May Peel)  female  35.0      1   \n",
      "4                           Allen, Mr. William Henry    male  35.0      0   \n",
      "5                                   Moran, Mr. James    male   NaN      0   \n",
      "6                            McCarthy, Mr. Timothy J    male  54.0      0   \n",
      "7                     Palsson, Master. Gosta Leonard    male   2.0      3   \n",
      "8  Johnson, Mrs. Oscar W (Elisabeth Vilhelmina Berg)  female  27.0      0   \n",
      "9                Nasser, Mrs. Nicholas (Adele Achem)  female  14.0      1   \n",
      "\n",
      "   Parch            Ticket     Fare Cabin Embarked  \n",
      "0      0         A/5 21171   7.2500   NaN        S  \n",
      "1      0          PC 17599  71.2833   C85        C  \n",
      "2      0  STON/O2. 3101282   7.9250   NaN        S  \n",
      "3      0            113803  53.1000  C123        S  \n",
      "4      0            373450   8.0500   NaN        S  \n",
      "5      0            330877   8.4583   NaN        Q  \n",
      "6      0             17463  51.8625   E46        S  \n",
      "7      1            349909  21.0750   NaN        S  \n",
      "8      2            347742  11.1333   NaN        S  \n",
      "9      0            237736  30.0708   NaN        C  \n"
     ]
    }
   ],
   "metadata": {}
  },
  {
   "cell_type": "code",
   "execution_count": null,
   "source": [],
   "outputs": [],
   "metadata": {}
  }
 ],
 "metadata": {
  "kernelspec": {
   "display_name": "Python 3 (ipykernel)",
   "language": "python",
   "name": "python3"
  },
  "language_info": {
   "codemirror_mode": {
    "name": "ipython",
    "version": 3
   },
   "file_extension": ".py",
   "mimetype": "text/x-python",
   "name": "python",
   "nbconvert_exporter": "python",
   "pygments_lexer": "ipython3",
   "version": "3.9.4"
  }
 },
 "nbformat": 4,
 "nbformat_minor": 5
}