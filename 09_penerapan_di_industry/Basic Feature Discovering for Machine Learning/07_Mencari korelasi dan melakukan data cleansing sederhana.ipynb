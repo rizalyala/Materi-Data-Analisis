{
 "cells": [
  {
   "cell_type": "markdown",
   "id": "0612293b-742f-4213-a098-79a139ef9b04",
   "metadata": {},
   "source": [
    "Mengetahui Korelasi Fitur\n",
    "--\n",
    "\n",
    "Untuk mencari korelasi antar kolom pada sebuah dataframe, Anda dapat menggunakan corr().abs() seperti contoh penggunaannya di bawah ini:"
   ]
  },
  {
   "cell_type": "raw",
   "id": "774264f1-880b-4659-b81a-06055c09ff23",
   "metadata": {},
   "source": [
    "df.corr().abs()"
   ]
  },
  {
   "cell_type": "code",
   "execution_count": 1,
   "id": "224d2c31-03c6-4ec8-a50e-3bcda7abc8f9",
   "metadata": {},
   "outputs": [
    {
     "name": "stdout",
     "output_type": "stream",
     "text": [
      "             PassengerId  Survived    Pclass       Age     SibSp     Parch      Fare\n",
      "PassengerId     1.000000  0.005007  0.035144  0.036847  0.057527  0.001652  0.012658\n",
      "Survived        0.005007  1.000000  0.338481  0.077221  0.035322  0.081629  0.257307\n",
      "Pclass          0.035144  0.338481  1.000000  0.369226  0.083081  0.018443  0.549500\n",
      "Age             0.036847  0.077221  0.369226  1.000000  0.308247  0.189119  0.096067\n",
      "SibSp           0.057527  0.035322  0.083081  0.308247  1.000000  0.414838  0.159651\n",
      "Parch           0.001652  0.081629  0.018443  0.189119  0.414838  1.000000  0.216225\n",
      "Fare            0.012658  0.257307  0.549500  0.096067  0.159651  0.216225  1.000000\n"
     ]
    }
   ],
   "source": [
    "import pandas as pd\n",
    "\n",
    "def concat_df(train_data, test_data):\n",
    "\treturn pd.concat([train_data, test_data], sort=True).reset_index(drop=True)\n",
    "\n",
    "df_train = pd.read_csv('https://storage.googleapis.com/dqlab-dataset/challenge/feature-engineering/titanic_train.csv')\n",
    "df_test = pd.read_csv('https://storage.googleapis.com/dqlab-dataset/challenge/feature-engineering/titanic_test.csv')\n",
    "df_all = concat_df(df_train, df_test)\n",
    "df_train.name = 'Training Set'\n",
    "df_test.name = 'Test Set'\n",
    "df_all.name = 'All Set' \n",
    "dfs = [df_train, df_test]\n",
    "\n",
    "df_train_corr = df_train.corr().abs()\n",
    "print(df_train_corr.to_string())"
   ]
  },
  {
   "cell_type": "markdown",
   "id": "81adf482-a71e-47f5-830d-079a7dcb6de6",
   "metadata": {},
   "source": [
    "Membaca hasil korelasi fitur\n",
    "--\n",
    "\n",
    "Apabila Anda melihat table ini Anda akan mengetahui korelasi antar kolom. Korelasi dapat ditentukan dengan mendekati nilai 1 untuk korelasi positive dan nilai -1 untuk korelasi terbalik.\n",
    "\n",
    "Pada data ini dapat dilihat bahwa target variable kita Survived sangat besar korelasinya dengan Pclass dan Fare. Sedangkan Age sangat berkaitan dengan Pclass, Sibling Spouse (SibSp), Parent Children (Parch).\n",
    "\n",
    "Dapat diasumsikan bahwa kebanyakan orang yang selamat adalah orang dengan PClass atas dan Tuanya umur seseorang dapat dikatakan dia akan membawa saudara/orang tua/anak/pasangan.\n",
    "\n",
    "Dan Fare (harga) tentu saja berkaitan dengan Pclass (kelas penumpang) seorang penumpang."
   ]
  },
  {
   "cell_type": "markdown",
   "id": "d90d2d61-a04e-4b81-be3d-fdbd23baa088",
   "metadata": {},
   "source": [
    "Mengenali missing data dari kolom\n",
    "--\n",
    "\n",
    "Perhatikan LiveCode terdapat function display_missing. Function tersebut digunakan untuk mengetahui jumlah missing value dari setiap kolom.\n",
    "\n",
    "Untuk mengeluarkan hasil missing value Anda diminta untuk mengisi bagian [...1...] dengan dataframe df dan jalankan."
   ]
  },
  {
   "cell_type": "code",
   "execution_count": 2,
   "id": "04c2801b-e475-458c-aa95-8a4d0f1b0cb5",
   "metadata": {},
   "outputs": [
    {
     "name": "stdout",
     "output_type": "stream",
     "text": [
      "Training Set\n",
      "PassengerId column missing values: 0\n",
      "Survived column missing values: 0\n",
      "Pclass column missing values: 0\n",
      "Name column missing values: 0\n",
      "Sex column missing values: 0\n",
      "Age column missing values: 177\n",
      "SibSp column missing values: 0\n",
      "Parch column missing values: 0\n",
      "Ticket column missing values: 0\n",
      "Fare column missing values: 0\n",
      "Cabin column missing values: 687\n",
      "Embarked column missing values: 2\n",
      "\n",
      "\n",
      "Test Set\n",
      "PassengerId column missing values: 0\n",
      "Pclass column missing values: 0\n",
      "Name column missing values: 0\n",
      "Sex column missing values: 0\n",
      "Age column missing values: 86\n",
      "SibSp column missing values: 0\n",
      "Parch column missing values: 0\n",
      "Ticket column missing values: 0\n",
      "Fare column missing values: 1\n",
      "Cabin column missing values: 327\n",
      "Embarked column missing values: 0\n",
      "\n",
      "\n"
     ]
    }
   ],
   "source": [
    "import pandas as pd\n",
    "\n",
    "def concat_df(train_data, test_data):\n",
    "\treturn pd.concat([train_data, test_data], sort=True).reset_index(drop=True)\n",
    "\n",
    "df_train = pd.read_csv('https://storage.googleapis.com/dqlab-dataset/challenge/feature-engineering/titanic_train.csv')\n",
    "df_test = pd.read_csv('https://storage.googleapis.com/dqlab-dataset/challenge/feature-engineering/titanic_test.csv')\n",
    "df_all = concat_df(df_train, df_test)\n",
    "df_train.name = 'Training Set'\n",
    "df_test.name = 'Test Set'\n",
    "df_all.name = 'All Set' \n",
    "\n",
    "dfs = [df_train, df_test]\n",
    "\n",
    "def display_missing(df):    \n",
    "    for col in df.columns.tolist():          \n",
    "        print('{} column missing values: {}'.format(col, df[col].isnull().sum()))\n",
    "    print('\\n')\n",
    "\n",
    "for df in dfs:\n",
    "    print('{}'.format(df.name))\n",
    "    display_missing(df)"
   ]
  },
  {
   "cell_type": "markdown",
   "id": "51c2e769-f1de-422c-a624-b9a6fb662e47",
   "metadata": {},
   "source": [
    "Dari hasil tersebut ada beberapa kolom masih terdapat nilai kosong seperti age, cabin, embarked pada dataframe training set."
   ]
  },
  {
   "cell_type": "markdown",
   "id": "2ca72c2b-7fdd-4102-b2c7-fc5b4f6f5ab6",
   "metadata": {},
   "source": [
    "Mencari nilai untuk missing value\n",
    "--\n",
    "\n",
    "Untuk mengisi data Age yang kosong, karena kita mengetahui bahwa Umur seseorang berkaitan dengan Kelas penumpangnya, kita dapat mengisinya dengan nilai tengah umur seseorang di dalam kelas tersebut dan berdasar jenis kelaminnya.\n",
    "\n",
    "Jadi kita lakukan groupby terhadap Jenis Kelamin dan Kelas Penumpang, lalu isi nilai tersebut ke dalam missing value yang ada di dalam data kita."
   ]
  },
  {
   "cell_type": "raw",
   "id": "79d0ff61-28cc-4b43-829a-714497b057b0",
   "metadata": {},
   "source": [
    "age_by_pclass_sex = df_all.groupby(['Sex', 'Pclass']).median()['Age']\n",
    "\n",
    "for pclass in range(1, 4):\n",
    "for sex in ['female', 'male']:\n",
    "print('Median age of Pclass {} {}s: {}'.format(pclass, sex, age_by_pclass_sex[sex][pclass]))\n",
    "print('Median age of all passengers: {}'.format(df_all['Age'].median()))\n",
    "\n",
    "# Filling the missing values in Age with the medians of Sex and Pclass groups\n",
    "df_all['Age'] = df_all.groupby(['Sex', 'Pclass'])['Age'].apply(lambda x: x.fillna(x.median()))"
   ]
  },
  {
   "cell_type": "markdown",
   "id": "1de87922-c01f-4ef0-b405-4aa0b0349307",
   "metadata": {},
   "source": [
    "Hasilnya akan seperti di bawah ini:"
   ]
  },
  {
   "cell_type": "code",
   "execution_count": 6,
   "id": "fa34efd0-486b-425a-a91c-1a59e6b9f77d",
   "metadata": {},
   "outputs": [
    {
     "name": "stdout",
     "output_type": "stream",
     "text": [
      "Median age of Pclass 1 females: 36.0\n",
      "Median age of all passengers: 28.0\n",
      "Median age of Pclass 1 males: 42.0\n",
      "Median age of all passengers: 28.0\n",
      "Median age of Pclass 2 females: 28.0\n",
      "Median age of all passengers: 28.0\n",
      "Median age of Pclass 2 males: 29.5\n",
      "Median age of all passengers: 28.0\n",
      "Median age of Pclass 3 females: 22.0\n",
      "Median age of all passengers: 28.0\n",
      "Median age of Pclass 3 males: 25.0\n",
      "Median age of all passengers: 28.0\n"
     ]
    }
   ],
   "source": [
    "import pandas as pd\n",
    "\n",
    "def concat_df(train_data, test_data):\n",
    "    return pd.concat([train_data, test_data], sort=True).reset_index(drop=True)\n",
    "\n",
    "df_train = pd.read_csv('https://storage.googleapis.com/dqlab-dataset/challenge/feature-engineering/titanic_train.csv')\n",
    "df_test = pd.read_csv('https://storage.googleapis.com/dqlab-dataset/challenge/feature-engineering/titanic_test.csv')\n",
    "df_all = concat_df(df_train, df_test)\n",
    "df_train.name = 'Training Set'\n",
    "df_test.name = 'Test Set'\n",
    "df_all.name = 'All Set'\n",
    "dfs = [df_train, df_test]\n",
    "\n",
    "age_by_pclass_sex = df_all.groupby(['Sex', 'Pclass']).median()['Age']\n",
    "\n",
    "for pclass in range(1, 4):\n",
    "    for sex in ['female', 'male']:\n",
    "        print('Median age of Pclass {} {}s: {}'.format(pclass, sex, age_by_pclass_sex[sex][pclass]))\n",
    "        print('Median age of all passengers: {}'.format(df_all['Age'].median()))\n",
    "\n",
    "# Filling the missing values in Age with the medians of Sex and Pclass groups\n",
    "df_all['Age'] = df_all.groupby(['Sex', 'Pclass'])['Age'].apply(lambda x: x.fillna(x.median()))"
   ]
  },
  {
   "cell_type": "markdown",
   "id": "d50eb06f-dea8-4a9d-b99d-42d96da1d578",
   "metadata": {},
   "source": [
    "Mengisi nilai kosong\n",
    "--\n"
   ]
  },
  {
   "cell_type": "markdown",
   "id": "1a5f47b1-c16c-4604-b0db-3cb438e41ab2",
   "metadata": {},
   "source": [
    "Kita juga harus mengisi nilai yang hilang untuk kolom Embarked dan Fare.\n",
    "\n",
    "Untuk Embarked, kebanyakan orang dari Titanic berangkat dari Southampton/S, sehingga kita dapat mengisinya dengan S saja. Ini lebih baik daripada membiarkan datanya kosong."
   ]
  },
  {
   "cell_type": "raw",
   "id": "b533bf75-0f45-4864-8497-1564abad939b",
   "metadata": {},
   "source": [
    "df_all['Embarked'] = df_all['Embarked'].fillna('S')"
   ]
  },
  {
   "cell_type": "markdown",
   "id": "d87eaaa0-85dd-486b-917e-acabafd35326",
   "metadata": {},
   "source": [
    "Untuk Fare, kita tahu bahwa Fare sangat berkaitan dengan Pclass(Kelas Penumpang), Parch(Jumlah Parent/Children), dan Sibsp(Jumlah Sibling/Spouse). Sehingga kita dapat mengisinya dengan nilai tengah dari orang yang berada di grup tersebut."
   ]
  },
  {
   "cell_type": "raw",
   "id": "b18e094f-0d0e-4095-8d0d-09131cc159a8",
   "metadata": {},
   "source": [
    "med_fare = df_all.groupby(['Pclass', 'Parch', 'SibSp']).Fare.median()[3][0][0]\n",
    "# Filling the missing value in Fare with the median Fare of 3rd class alone passenger\n",
    "df_all['Fare'] = df_all['Fare'].fillna(med_fare)"
   ]
  }
 ],
 "metadata": {
  "kernelspec": {
   "display_name": "Python 3 (ipykernel)",
   "language": "python",
   "name": "python3"
  },
  "language_info": {
   "codemirror_mode": {
    "name": "ipython",
    "version": 3
   },
   "file_extension": ".py",
   "mimetype": "text/x-python",
   "name": "python",
   "nbconvert_exporter": "python",
   "pygments_lexer": "ipython3",
   "version": "3.9.4"
  }
 },
 "nbformat": 4,
 "nbformat_minor": 5
}
