{
 "cells": [
  {
   "cell_type": "markdown",
   "source": [
    "Mendeteksi adanya Outlier (Boxplot)\r\n",
    "--\r\n",
    "\r\n",
    "Mendeteksi Pencilan dari suatu Nilai (Outlier) salah satunya bisa melihat plot dari data tersebut menggunakan Box Plot. Boxplot merupakan ringkasan distribusi sampel yang disajikan secara grafis yang bisa menggambarkan bentuk distribusi data (skewness), ukuran tendensi sentral dan ukuran penyebaran (keragaman) data pengamatan.\r\n",
    "\r\n",
    " \r\n",
    "Gunakan package matplotlib & seaborn untuk memvisualisasika data-data yang mau dilihat box plot nya. Fungsi describe() gunakan saat untuk melihat deskripsi datanya"
   ],
   "metadata": {}
  },
  {
   "cell_type": "code",
   "execution_count": 1,
   "source": [
    "import pandas as pd\r\n",
    "df_load = pd.read_csv('https://storage.googleapis.com/dqlab-dataset/dqlab_telco.csv')\r\n",
    "\r\n",
    "print('\\nPersebaran data sebelum ditangani Outlier: ')\r\n",
    "print(df_load[['tenure','MonthlyCharges','TotalCharges']].describe())\r\n",
    "\r\n",
    "# Creating Box Plot\r\n",
    "import matplotlib.pyplot as plt\r\n",
    "import seaborn as sns\r\n",
    "\r\n",
    "#Your Codes here\r\n",
    "plt.figure() # untuk membuat figure baru\r\n",
    "sns.boxplot(x=df_load['tenure'])\r\n",
    "plt.show()\r\n",
    "plt.figure() # untuk membuat figure baru\r\n",
    "sns.boxplot(x=df_load['MonthlyCharges'])\r\n",
    "plt.show()\r\n",
    "plt.figure() # untuk membuat figure baru\r\n",
    "sns.boxplot(x=df_load['TotalCharges'])\r\n",
    "plt.show()"
   ],
   "outputs": [
    {
     "output_type": "stream",
     "name": "stdout",
     "text": [
      "\n",
      "Persebaran data sebelum ditangani Outlier: \n",
      "            tenure  MonthlyCharges  TotalCharges\n",
      "count  7014.000000     7087.000000   7098.000000\n",
      "mean     32.749358       67.018985   2306.582650\n",
      "std      25.206376      117.396646   2575.212013\n",
      "min       0.000000        0.000000     19.000000\n",
      "25%       9.000000       36.100000    402.925000\n",
      "50%      30.000000       70.450000   1400.700000\n",
      "75%      56.000000       89.900000   3801.600000\n",
      "max     500.000000     9000.000000  80000.000000\n"
     ]
    },
    {
     "output_type": "display_data",
     "data": {
      "image/png": "[encoded data removed]",
      "text/plain": [
       "<Figure size 432x288 with 1 Axes>"
      ]
     },
     "metadata": {
      "needs_background": "light"
     }
    },
    {
     "output_type": "display_data",
     "data": {
      "image/png": "[encoded data removed]",
      "text/plain": [
       "<Figure size 432x288 with 1 Axes>"
      ]
     },
     "metadata": {
      "needs_background": "light"
     }
    },
    {
     "output_type": "display_data",
     "data": {
      "image/png": "[encoded data removed]",
      "text/plain": [
       "<Figure size 432x288 with 1 Axes>"
      ]
     },
     "metadata": {
      "needs_background": "light"
     }
    }
   ],
   "metadata": {}
  },
  {
   "cell_type": "markdown",
   "source": [
    "Mengatasi Outlier\r\n",
    "--\r\n",
    "\r\n",
    "Setelah kita mengetahui variable mana saja yang terdapat pencilan (Outlier), selanjutnya kita akan atasi Outlier dengan menggunakan metode interquartile range (IQR). Untuk detil jelasnya, bisa dilihat di ilustrasi di bawah ini:\r\n",
    "\r\n",
    " \r\n",
    "\r\n",
    "Gunakan hasil dari pengolahan di tahap sebelumnya df_load untuk di olah di tahap ini. Gunakan fungsi quantile() untuk melihat quantile tertentu, dan gunakan mask() untuk mereplace nilai. Tentukan:\r\n",
    "- Nilai Minimum dan Maximum data di tolerir\r\n",
    "- Ubah Nilai yg di luar Range Minimum & Maximum ke dalam nilai Minimum dan Maximum"
   ],
   "metadata": {}
  },
  {
   "cell_type": "code",
   "execution_count": 2,
   "source": [
    "import pandas as pd\r\n",
    "df_load = pd.read_csv('https://storage.googleapis.com/dqlab-dataset/dqlab_telco.csv')\r\n",
    "\r\n",
    "# Your code goes here\r\n",
    "Q1 = (df_load[['tenure','MonthlyCharges','TotalCharges']]).quantile(0.25)\r\n",
    "Q3 = (df_load[['tenure','MonthlyCharges','TotalCharges']]).quantile(0.75)\r\n",
    "\r\n",
    "IQR = Q3 - Q1\r\n",
    "maximum = Q3 + (1.5*IQR)\r\n",
    "print('Nilai Maximum dari masing-masing Variable adalah: ')\r\n",
    "print(maximum)\r\n",
    "minimum = Q1 - (1.5*IQR)\r\n",
    "print('\\nNilai Minimum dari masing-masing Variable adalah: ')\r\n",
    "print(minimum)\r\n",
    "\r\n",
    "more_than = (df_load > maximum)\r\n",
    "lower_than = (df_load < minimum)\r\n",
    "df_load = df_load.mask(more_than, maximum, axis=1)\r\n",
    "df_load = df_load.mask(lower_than, minimum, axis=1)\r\n",
    "\r\n",
    "print('\\nPersebaran data setelah ditangani Outlier: ')\r\n",
    "print(df_load[['tenure','MonthlyCharges','TotalCharges']].describe())"
   ],
   "outputs": [
    {
     "output_type": "stream",
     "name": "stdout",
     "text": [
      "Nilai Maximum dari masing-masing Variable adalah: \n",
      "tenure             126.5000\n",
      "MonthlyCharges     170.6000\n",
      "TotalCharges      8899.6125\n",
      "dtype: float64\n",
      "\n",
      "Nilai Minimum dari masing-masing Variable adalah: \n",
      "tenure             -61.5000\n",
      "MonthlyCharges     -44.6000\n",
      "TotalCharges     -4695.0875\n",
      "dtype: float64\n",
      "\n",
      "Persebaran data setelah ditangani Outlier: \n",
      "            tenure  MonthlyCharges  TotalCharges\n",
      "count  7014.000000     7087.000000   7098.000000\n",
      "mean     32.696108       64.995837   2287.957576\n",
      "std      24.606516       30.133477   2268.788381\n",
      "min       0.000000        0.000000     19.000000\n",
      "25%       9.000000       36.100000    402.925000\n",
      "50%      30.000000       70.450000   1400.700000\n",
      "75%      56.000000       89.900000   3801.600000\n",
      "max     126.500000      170.600000   8899.612500\n"
     ]
    },
    {
     "output_type": "stream",
     "name": "stderr",
     "text": [
      "C:\\Users\\Yala\\AppData\\Local\\Temp/ipykernel_9356/4053935854.py:16: FutureWarning: Automatic reindexing on DataFrame vs Series comparisons is deprecated and will raise ValueError in a future version.  Do `left, right = left.align(right, axis=1, copy=False)` before e.g. `left == right`\n",
      "  more_than = (df_load > maximum)\n",
      "C:\\Users\\Yala\\AppData\\Local\\Temp/ipykernel_9356/4053935854.py:17: FutureWarning: Automatic reindexing on DataFrame vs Series comparisons is deprecated and will raise ValueError in a future version.  Do `left, right = left.align(right, axis=1, copy=False)` before e.g. `left == right`\n",
      "  lower_than = (df_load < minimum)\n"
     ]
    }
   ],
   "metadata": {}
  }
 ],
 "metadata": {
  "orig_nbformat": 4,
  "language_info": {
   "name": "python",
   "version": "3.9.4",
   "mimetype": "text/x-python",
   "codemirror_mode": {
    "name": "ipython",
    "version": 3
   },
   "pygments_lexer": "ipython3",
   "nbconvert_exporter": "python",
   "file_extension": ".py"
  },
  "kernelspec": {
   "name": "python3",
   "display_name": "Python 3.9.4 64-bit"
  },
  "interpreter": {
   "hash": "7eff29eea51cc0875cdf45c3d54f4b1ae9d9d66abcf4645c66748e224d4b6dc2"
  }
 },
 "nbformat": 4,
 "nbformat_minor": 2
}