{
 "cells": [
  {
   "cell_type": "markdown",
   "source": [
    "Mengatasi Missing Values dengan Penghapusan Rows\r\n",
    "--\r\n",
    "\r\n",
    "Selanjutnya kita akan menghapus Rows dari data-data yang tidak terdeteksi apakah dia churn atau tidak. Di asumsikan data modeller hanya mau menerima data yang benar ada flag churn nya atau tidak.\r\n",
    "\r\n",
    "Gunakan isnull() digunakan untuk mendeteksi missing values dan dropna() untuk menghapus data yang missing values"
   ],
   "metadata": {}
  },
  {
   "cell_type": "code",
   "execution_count": 1,
   "source": [
    "import pandas as pd\r\n",
    "df_load = pd.read_csv('https://storage.googleapis.com/dqlab-dataset/dqlab_telco.csv')\r\n",
    "\r\n",
    "print('Total missing values data dari kolom Churn',df_load['Churn'].isnull().sum())\r\n",
    "# Dropping all Rows with spesific column (churn)\r\n",
    "df_load.dropna(subset=['Churn'],inplace=True)\r\n",
    "print('Total Rows dan kolom Data setelah dihapus data Missing Values adalah',df_load.shape)"
   ],
   "outputs": [
    {
     "output_type": "stream",
     "name": "stdout",
     "text": [
      "Total missing values data dari kolom Churn 43\n",
      "Total Rows dan kolom Data setelah dihapus data Missing Values adalah (7070, 22)\n"
     ]
    }
   ],
   "metadata": {}
  },
  {
   "cell_type": "markdown",
   "source": [
    "Mengatasi Missing Values dengan Pengisian Nilai tertentu\r\n",
    "--\r\n",
    "\r\n",
    "Selain dengan mengapus rows dari data, menangani missing values bisa menggunakan nilai tertentu. Diasumsikan data modeller meminta pengisian missing values dengan kriteria berikut:\r\n",
    "\r\n",
    "- Tenure pihak data modeller meminta setiap rows yang memiliki missing values untuk Lama berlangganan di isi dengan 11\r\n",
    "- Variable yang bersifat numeric selain Tenure di isi dengan median dari masing-masing variable tersebut\r\n",
    "\r\n",
    "Tentukan :\r\n",
    "\r\n",
    "- Apakah masih ada data yang missing values\r\n",
    "- Jumlah Missing Values dari masing-masing variable\r\n",
    "- Tangani Missing Valuesnya"
   ],
   "metadata": {}
  },
  {
   "cell_type": "code",
   "execution_count": 4,
   "source": [
    "import pandas as pd\r\n",
    "df_load = pd.read_csv('https://storage.googleapis.com/dqlab-dataset/dqlab_telco.csv')\r\n",
    "\r\n",
    "print('Status Missing Values :',df_load.isnull().values.any())\r\n",
    "print('\\nJumlah Missing Values masing-masing kolom, adalah:')\r\n",
    "print(df_load.isnull().sum().sort_values(ascending=False))\r\n",
    "\r\n",
    "# handling missing values Tenure fill with 11\r\n",
    "df_load['tenure'].fillna(11, inplace=True)\r\n",
    "\r\n",
    "# Handling missing values num vars (except Tenure)\r\n",
    "for col_name in list(['MonthlyCharges','TotalCharges']):\r\n",
    "    median = df_load[col_name].median()\r\n",
    "df_load[col_name].fillna(median, inplace=True)\r\n",
    "\r\n",
    "print('\\nJumlah Missing Values setelah di imputer datanya, adalah:')\r\n",
    "print(df_load.isnull().sum().sort_values(ascending=False))"
   ],
   "outputs": [
    {
     "output_type": "stream",
     "name": "stdout",
     "text": [
      "Status Missing Values : True\n",
      "\n",
      "Jumlah Missing Values masing-masing kolom, adalah:\n",
      "tenure              99\n",
      "Churn               43\n",
      "MonthlyCharges      26\n",
      "TotalCharges        15\n",
      "DeviceProtection     0\n",
      "PaymentMethod        0\n",
      "PaperlessBilling     0\n",
      "Contract             0\n",
      "StreamingMovies      0\n",
      "StreamingTV          0\n",
      "TechSupport          0\n",
      "UpdatedAt            0\n",
      "customerID           0\n",
      "OnlineSecurity       0\n",
      "InternetService      0\n",
      "MultipleLines        0\n",
      "PhoneService         0\n",
      "Dependents           0\n",
      "Partner              0\n",
      "SeniorCitizen        0\n",
      "gender               0\n",
      "OnlineBackup         0\n",
      "dtype: int64\n",
      "\n",
      "Jumlah Missing Values setelah di imputer datanya, adalah:\n",
      "Churn               43\n",
      "MonthlyCharges      26\n",
      "customerID           0\n",
      "TotalCharges         0\n",
      "PaymentMethod        0\n",
      "PaperlessBilling     0\n",
      "Contract             0\n",
      "StreamingMovies      0\n",
      "StreamingTV          0\n",
      "TechSupport          0\n",
      "DeviceProtection     0\n",
      "UpdatedAt            0\n",
      "OnlineSecurity       0\n",
      "InternetService      0\n",
      "MultipleLines        0\n",
      "PhoneService         0\n",
      "tenure               0\n",
      "Dependents           0\n",
      "Partner              0\n",
      "SeniorCitizen        0\n",
      "gender               0\n",
      "OnlineBackup         0\n",
      "dtype: int64\n"
     ]
    }
   ],
   "metadata": {}
  }
 ],
 "metadata": {
  "orig_nbformat": 4,
  "language_info": {
   "name": "python",
   "version": "3.9.4",
   "mimetype": "text/x-python",
   "codemirror_mode": {
    "name": "ipython",
    "version": 3
   },
   "pygments_lexer": "ipython3",
   "nbconvert_exporter": "python",
   "file_extension": ".py"
  },
  "kernelspec": {
   "name": "python3",
   "display_name": "Python 3.9.4 64-bit"
  },
  "interpreter": {
   "hash": "7eff29eea51cc0875cdf45c3d54f4b1ae9d9d66abcf4645c66748e224d4b6dc2"
  }
 },
 "nbformat": 4,
 "nbformat_minor": 2
}