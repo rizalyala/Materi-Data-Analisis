{
 "cells": [
  {
   "cell_type": "markdown",
   "source": [
    "Menghapus Unnecessary Columns dari data\r\n",
    "--\r\n",
    "\r\n",
    "Selanjutnya kita akan mengapus kolom yang tidak akan diikutsertakan dalam pemodelan, kemudian simpan dengan nama cleaned_df. Tampilkan 5 rows teratas nya.\r\n",
    "\r\n"
   ],
   "metadata": {}
  },
  {
   "cell_type": "code",
   "execution_count": 12,
   "source": [
    "import pandas as pd\r\n",
    "df_load = pd.read_csv('https://storage.googleapis.com/dqlab-dataset/dqlab_telco_final.csv')\r\n",
    "\r\n",
    "#Remove the unnecessary columns customerID & UpdatedAt\r\n",
    "cleaned_df = df_load.drop(['customerID','UpdatedAt'], axis=1)\r\n",
    "print(cleaned_df.head())"
   ],
   "outputs": [
    {
     "output_type": "stream",
     "name": "stdout",
     "text": [
      "   gender SeniorCitizen Partner  tenure PhoneService StreamingTV  \\\n",
      "0  Female            No     Yes       1           No          No   \n",
      "1    Male            No     Yes      60          Yes          No   \n",
      "2    Male            No      No       5          Yes         Yes   \n",
      "3  Female            No     Yes      72          Yes         Yes   \n",
      "4  Female            No     Yes      56          Yes         Yes   \n",
      "\n",
      "  InternetService PaperlessBilling  MonthlyCharges  TotalCharges Churn  \n",
      "0             Yes              Yes           29.85         29.85    No  \n",
      "1              No              Yes           20.50       1198.80    No  \n",
      "2             Yes               No          104.10        541.90   Yes  \n",
      "3             Yes              Yes          115.50       8312.75    No  \n",
      "4             Yes               No           81.25       4620.40    No  \n"
     ]
    }
   ],
   "metadata": {}
  },
  {
   "cell_type": "markdown",
   "source": [
    "---\r\n",
    "Encoding Data\r\n",
    "--\r\n",
    "\r\n",
    "Gunakan data dari hasil dan analisa sebelumnya cleaned_df, untuk merubah value dari data yang masih berbentuk string untuk diubah ke dalam bentuk numeric menggunakan LabelEncoder(). Gunakan describe() untuk melihat deskripsi datanya.\r\n"
   ],
   "metadata": {}
  },
  {
   "cell_type": "code",
   "execution_count": 3,
   "source": [
    "import numpy as np\r\n",
    "import pandas as pd\r\n",
    "df_load = pd.read_csv('https://storage.googleapis.com/dqlab-dataset/dqlab_telco_final.csv')\r\n",
    "cleaned_df = df_load.drop(['customerID','UpdatedAt'], axis=1)\r\n",
    "\r\n",
    "from sklearn.preprocessing import LabelEncoder\r\n",
    "#Convert all the non-numeric columns to numerical data types\r\n",
    "for column in cleaned_df.columns:\r\n",
    "\tif cleaned_df[column].dtype == np.dtype(float).type : continue\r\n",
    "# Perform encoding for each non-numeric column\r\n",
    "cleaned_df[column] = LabelEncoder().fit_transform(cleaned_df[column])\r\n",
    "print(cleaned_df.describe())"
   ],
   "outputs": [
    {
     "output_type": "stream",
     "name": "stdout",
     "text": [
      "            tenure  MonthlyCharges  TotalCharges        Churn\n",
      "count  6950.000000     6950.000000   6950.000000  6950.000000\n",
      "mean     32.423165       64.992201   2286.058750     0.264173\n",
      "std      24.581073       30.032040   2265.702553     0.440923\n",
      "min       0.000000        0.000000     19.000000     0.000000\n",
      "25%       9.000000       36.462500    406.975000     0.000000\n",
      "50%      29.000000       70.450000   1400.850000     0.000000\n",
      "75%      55.000000       89.850000   3799.837500     1.000000\n",
      "max     124.000000      169.931250   8889.131250     1.000000\n"
     ]
    }
   ],
   "metadata": {}
  },
  {
   "cell_type": "markdown",
   "source": [
    "---\r\n",
    "Splitting Dataset\r\n",
    "--\r\n",
    "\r\n",
    "Gunakan data dari hasil dan analisa sebelumnya cleaned_df, untuk dibagi datasetnya menjadi 2 bagian (70% training & 30% testing) berdasarkan variable predictor (X) dan targetnya (Y). Gunakan train_test_split() untuk membagi data tersebut. Sertakan value_counts untuk mengecek apakah pembagian sudah sama proporsinya. Simpan hasil spliting data menjadi x_train, y_train, x_test & y_test"
   ],
   "metadata": {}
  },
  {
   "cell_type": "code",
   "execution_count": 10,
   "source": [
    "import numpy as np\r\n",
    "import pandas as pd\r\n",
    "from sklearn.preprocessing import LabelEncoder\r\n",
    "\r\n",
    "df_load = pd.read_csv('https://storage.googleapis.com/dqlab-dataset/dqlab_telco_final.csv')\r\n",
    "cleaned_df = df_load.drop(['customerID','UpdatedAt'], axis=1)\r\n",
    "\r\n",
    "for column in cleaned_df.columns:\r\n",
    "    if cleaned_df[column].dtype == np.float64: continue\r\n",
    "    cleaned_df[column] = LabelEncoder().fit_transform(cleaned_df[column])\r\n",
    "\r\n",
    "from sklearn.model_selection import train_test_split\r\n",
    "# Predictor dan target\r\n",
    "X = cleaned_df.drop('Churn', axis = 1)\r\n",
    "y = cleaned_df['Churn']\r\n",
    "\r\n",
    "# Splitting train and test\r\n",
    "x_train, x_test, y_train, y_test = train_test_split(X, y, test_size=0.3, random_state=42)\r\n",
    "\r\n",
    "# Print according to the expected result\r\n",
    "print('Jumlah baris dan kolom dari x_train adalah:', x_train.shape,', sedangkan Jumlah baris dan kolom dari y_train adalah:', y_train.shape)\r\n",
    "print('Prosentase Churn di data Training adalah:')\r\n",
    "print(y_train.value_counts(normalize=True))\r\n",
    "print('Jumlah baris dan kolom dari x_test adalah:', x_test.shape,', sedangkan Jumlah baris dan kolom dari y_test adalah:', y_test.shape)\r\n",
    "print('Prosentase Churn di data Testing adalah:')\r\n",
    "print(y_test.value_counts(normalize=True))"
   ],
   "outputs": [
    {
     "output_type": "stream",
     "name": "stdout",
     "text": [
      "Jumlah baris dan kolom dari x_train adalah: (4865, 10) , sedangkan Jumlah baris dan kolom dari y_train adalah: (4865,)\n",
      "Prosentase Churn di data Training adalah:\n",
      "0    0.734841\n",
      "1    0.265159\n",
      "Name: Churn, dtype: float64\n",
      "Jumlah baris dan kolom dari x_test adalah: (2085, 10) , sedangkan Jumlah baris dan kolom dari y_test adalah: (2085,)\n",
      "Prosentase Churn di data Testing adalah:\n",
      "0    0.738129\n",
      "1    0.261871\n",
      "Name: Churn, dtype: float64\n"
     ]
    }
   ],
   "metadata": {}
  }
 ],
 "metadata": {
  "orig_nbformat": 4,
  "language_info": {
   "name": "python",
   "version": "3.9.4",
   "mimetype": "text/x-python",
   "codemirror_mode": {
    "name": "ipython",
    "version": 3
   },
   "pygments_lexer": "ipython3",
   "nbconvert_exporter": "python",
   "file_extension": ".py"
  },
  "kernelspec": {
   "name": "python3",
   "display_name": "Python 3.9.4 64-bit"
  },
  "interpreter": {
   "hash": "7eff29eea51cc0875cdf45c3d54f4b1ae9d9d66abcf4645c66748e224d4b6dc2"
  }
 },
 "nbformat": 4,
 "nbformat_minor": 2
}