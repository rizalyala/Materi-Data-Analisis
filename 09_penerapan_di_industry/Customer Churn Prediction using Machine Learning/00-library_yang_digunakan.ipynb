{
 "cells": [
  {
   "cell_type": "markdown",
   "source": [
    "Library yang Digunakan\r\n",
    "--\r\n",
    "\r\n",
    "Pada analisis kali ini, akan digunakan beberapa package yang membantu kita dalam melakukan analisis data,\r\n",
    "\r\n",
    "---\r\n",
    "Pandas (Python for Data Analysis) adalah library Python yang fokus untuk proses analisis data seperti manipulasi data, persiapan data, dan pembersihan data.\r\n",
    "- read_csv() digunakan untuk membaca file csv\r\n",
    "- replace() digunakan untuk mengganti nilai\r\n",
    "- value_counts() digunakan untuk mengitung unik dari kolom\r\n",
    "- drop() digunakan untuk menghapus\r\n",
    "- describe() digunakan untuk melihat deskripsi datanya\r\n",
    "- value_counts() digunakan untuk mengitung unik dari kolom\r\n",
    "\r\n",
    "---\r\n",
    "Matplotlib adalah library Python yang fokus pada visualisasi data seperti membuat plot grafik. Matplotlib dapat digunakan dalam skrip Python, Python dan IPython shell, server aplikasi web, dan beberapa toolkit graphical user interface (GUI) lainnya.\r\n",
    "- figure() digunakan untuk membuat figure gambar baru\r\n",
    "- subplots()digunakan untuk membuat gambar dan satu set subplot\r\n",
    "- title()digunakan untuk memberi judul pada gambar\r\n",
    "- ylabel()digunakan untuk memberi label sumbu Y pada gambar\r\n",
    "- xlabel()digunakan untuk memberi label sumbu Y pada gambar\r\n",
    "- pie()digunakan untuk membuat pie chart\r\n",
    "\r\n",
    "---\r\n",
    "Seaborn membangun plot di atas Matplotlib dan memperkenalkan tipe plot tambahan. Ini juga membuat plot Matplotlib tradisional Anda terlihat lebih cantik.\r\n",
    "\r\n",
    "- countplot() digunakan untuk membuat plot dengan jumlah pengamatan di setiap bin kategorik variable\r\n",
    "- heatmap() Plot rectangular data as a color-encoded matrix\r\n",
    "\r\n",
    "---\r\n",
    "Scikit-learn adalah library dalam Python yang menyediakan banyak algoritma Machine Learning baik untuk Supervised, Unsupervised Learning, maupun digunakan untuk mempreparasi data.\r\n",
    "\r\n",
    "- LabelEncoder() digunakan untuk merubah nilai dari suatu variable menjadi 0 atau 1\r\n",
    "- train_test_split() digunakan untuk membagi data menjadi 2 row bagian (Training & Testing)\r\n",
    "- LogisticRegression() digunakan untuk memanggil algoritma Logistic Regression\r\n",
    "- RandomForestClassifier() digunakan untuk memanggil algoritma Random Forest Classifier\r\n",
    "- confusion_matrix() digunakan untuk membuat confusion matrix\r\n",
    "- classification_report() digunakan untuk membuat classification report, yang dianataranya berisi akurasi model\r\n",
    "\r\n",
    "---\r\n",
    "Xgboost adalah library dalam Python untuk algoritma extreme gradient boosting (xgboost)\r\n",
    "\r\n",
    "- XGBClassifier() digunakan untuk memanggil algoritma XG Boost Classifier\r\n",
    "\r\n",
    "---\r\n",
    "Pickle mengimplementasikan protokol biner untuk serializing dan de-serializing dari struktur objek Python.\r\n",
    "\r\n",
    "- dump() digunakan untuk menyimpan\r\n",
    "\r\n",
    "---"
   ],
   "metadata": {}
  }
 ],
 "metadata": {
  "orig_nbformat": 4,
  "language_info": {
   "name": "python"
  }
 },
 "nbformat": 4,
 "nbformat_minor": 2
}