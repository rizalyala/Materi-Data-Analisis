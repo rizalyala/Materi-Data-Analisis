{
 "cells": [
  {
   "cell_type": "markdown",
   "source": [
    "\r\n",
    "# **Inspeksi struktur data frame**\r\n",
    "\r\n",
    "Setelah melakukan proses loading dataframe ke dalam Python. Hal selanjutnya sebelum memulai analisis tentunya mengerti struktur dataset tersebut. Sehingga langkah selanjutnya dari pre - analisis biasanya dilakukan untuk\r\n",
    "\r\n",
    "- melihat struktur data frame,\r\n",
    "- melihat preview data dari dataframe tersebut, dan\r\n",
    "- membuat summary data sederhana dari dataset.\r\n",
    "\r\n",
    "---"
   ],
   "metadata": {}
  },
  {
   "cell_type": "markdown",
   "source": [
    "\r\n",
    "# **A) Statistik Deskriptif dari Data Frame - Part 1**"
   ],
   "metadata": {}
  },
  {
   "cell_type": "markdown",
   "source": [
    "\r\n",
    "## **DESCRIBE**"
   ],
   "metadata": {}
  },
  {
   "cell_type": "markdown",
   "source": [
    "\r\n",
    "Function describe dapat memberikan informasi mengenai nilai rataan, standar deviasi dan IQR (interquartile range).\r\n",
    "\r\n",
    "Ketentuan umum:\r\n",
    "\r\n",
    "- Secara umum function describe() akan secara otomatis mengabaikan kolom category dan hanya memberikan summary statistik untuk kolom berjenis numerik.\r\n",
    "- Kita perlu menambahkan argument bernama include = \"all\" untuk mendapatkan summary statistik atau statistik deskriptif dari kolom numerik dan karakter."
   ],
   "metadata": {}
  },
  {
   "cell_type": "code",
   "execution_count": 1,
   "source": [
    "import pandas as pd\r\n",
    "order_df = pd.read_csv(\"https://storage.googleapis.com/dqlab-dataset/order.csv\")\r\n",
    "\r\n",
    "# Quick summary  dari segi kuantitas, harga, freight value, dan weight\r\n",
    "print(order_df.describe())\r\n"
   ],
   "outputs": [
    {
     "output_type": "stream",
     "name": "stdout",
     "text": [
      "           quantity         price  freight_value  product_weight_gram\n",
      "count  49999.000000  4.999900e+04   49999.000000         49980.000000\n",
      "mean       1.197484  2.607784e+06  104521.390428          2201.830892\n",
      "std        0.722262  1.388312e+06   55179.844962          3929.896875\n",
      "min        1.000000  2.000000e+05    9000.000000            50.000000\n",
      "25%        1.000000  1.410500e+06   57000.000000           300.000000\n",
      "50%        1.000000  2.610000e+06  104000.000000           800.000000\n",
      "75%        1.000000  3.810000e+06  152000.000000          1850.000000\n",
      "max       21.000000  5.000000e+06  200000.000000         40425.000000\n"
     ]
    }
   ],
   "metadata": {}
  },
  {
   "cell_type": "markdown",
   "source": [
    "\r\n",
    "## **Describe (include)**"
   ],
   "metadata": {}
  },
  {
   "cell_type": "code",
   "execution_count": 2,
   "source": [
    "import pandas as pd\r\n",
    "order_df = pd.read_csv(\"https://storage.googleapis.com/dqlab-dataset/order.csv\")\r\n",
    "\r\n",
    "# Quick summary  dari segi kuantitas, harga, freight value, dan weight\r\n",
    "print(order_df.describe(include=\"all\"))\r\n"
   ],
   "outputs": [
    {
     "output_type": "stream",
     "name": "stdout",
     "text": [
      "                                order_id  ...  product_weight_gram\n",
      "count                              49999  ...         49980.000000\n",
      "unique                             42694  ...                  NaN\n",
      "top     8272b63d03f5f79c56e9e4120aec44ef  ...                  NaN\n",
      "freq                                  21  ...                  NaN\n",
      "mean                                 NaN  ...          2201.830892\n",
      "std                                  NaN  ...          3929.896875\n",
      "min                                  NaN  ...            50.000000\n",
      "25%                                  NaN  ...           300.000000\n",
      "50%                                  NaN  ...           800.000000\n",
      "75%                                  NaN  ...          1850.000000\n",
      "max                                  NaN  ...         40425.000000\n",
      "\n",
      "[11 rows x 12 columns]\n"
     ]
    }
   ],
   "metadata": {}
  },
  {
   "cell_type": "markdown",
   "source": [
    "\r\n",
    "# **B) Statistik Deskriptif dari Data Frame - Part 2**\r\n",
    "\r\n",
    "\r\n"
   ],
   "metadata": {}
  },
  {
   "cell_type": "markdown",
   "source": [
    "\r\n",
    "Jika ingin mendapatkan summary statistik dari kolom yang tidak bernilai angka, maka aku dapat menambahkan command include=[\"object\"] pada syntax describe()."
   ],
   "metadata": {}
  },
  {
   "cell_type": "code",
   "execution_count": 3,
   "source": [
    "import pandas as pd\r\n",
    "order_df = pd.read_csv(\"https://storage.googleapis.com/dqlab-dataset/order.csv\")\r\n",
    "\r\n",
    "# Quick summary  dari segi kuantitas, harga, freight value, dan weight\r\n",
    "print(order_df.describe(include=\"object\"))\r\n"
   ],
   "outputs": [
    {
     "output_type": "stream",
     "name": "stdout",
     "text": [
      "                                order_id  ... product_category_name\n",
      "count                              49999  ...                 49999\n",
      "unique                             42694  ...                     8\n",
      "top     8272b63d03f5f79c56e9e4120aec44ef  ...                  toys\n",
      "freq                                  21  ...                  6375\n",
      "\n",
      "[4 rows x 8 columns]\n"
     ]
    }
   ],
   "metadata": {}
  },
  {
   "cell_type": "markdown",
   "source": [
    "\r\n",
    "# **C) Statistik Deskriptif dari Data Frame - Part 3**\r\n"
   ],
   "metadata": {}
  },
  {
   "cell_type": "markdown",
   "source": [
    "\r\n",
    "Selanjutnya, untuk mencari rataan dari suatu data dari dataframe. Aku dapat menggunakan syntax mean, median, dan mode dari Pandas.\r\n"
   ],
   "metadata": {}
  },
  {
   "cell_type": "code",
   "execution_count": 4,
   "source": [
    "import pandas as pd\r\n",
    "order_df = pd.read_csv(\"https://storage.googleapis.com/dqlab-dataset/order.csv\")\r\n",
    "\r\n",
    "#Median\r\n",
    "print(order_df.loc[:, \"price\"].median())\r\n"
   ],
   "outputs": [
    {
     "output_type": "stream",
     "name": "stdout",
     "text": [
      "2610000.0\n"
     ]
    }
   ],
   "metadata": {}
  },
  {
   "cell_type": "code",
   "execution_count": 5,
   "source": [
    "import pandas as pd\r\n",
    "order_df = pd.read_csv(\"https://storage.googleapis.com/dqlab-dataset/order.csv\")\r\n",
    "\r\n",
    "# Quick summary  dari segi kuantitas, harga, freight value, dan weight\r\n",
    "print(order_df.loc[:, \"price\"].mean())\r\n"
   ],
   "outputs": [
    {
     "output_type": "stream",
     "name": "stdout",
     "text": [
      "2607783.9156783135\n"
     ]
    }
   ],
   "metadata": {}
  },
  {
   "cell_type": "code",
   "execution_count": 6,
   "source": [
    "import pandas as pd\r\n",
    "order_df = pd.read_csv(\"https://storage.googleapis.com/dqlab-dataset/order.csv\")\r\n",
    "\r\n",
    "# Quick summary  dari segi kuantitas, harga, freight value, dan weight\r\n",
    "print(order_df.loc[:, \"price\"].mode())"
   ],
   "outputs": [
    {
     "output_type": "stream",
     "name": "stdout",
     "text": [
      "0    3174000\n",
      "1    3627000\n",
      "dtype: int64\n"
     ]
    }
   ],
   "metadata": {}
  }
 ],
 "metadata": {
  "interpreter": {
   "hash": "43387ae2c7343e1aebc2cdbeb78cfc377146eb50b8af571122dd41c95c68e131"
  },
  "kernelspec": {
   "display_name": "Python 3 (ipykernel)",
   "language": "python",
   "name": "python3"
  },
  "language_info": {
   "codemirror_mode": {
    "name": "ipython",
    "version": 3
   },
   "file_extension": ".py",
   "mimetype": "text/x-python",
   "name": "python",
   "nbconvert_exporter": "python",
   "pygments_lexer": "ipython3",
   "version": "3.9.4"
  },
  "metadata": {
   "interpreter": {
    "hash": "43387ae2c7343e1aebc2cdbeb78cfc377146eb50b8af571122dd41c95c68e131"
   }
  }
 },
 "nbformat": 4,
 "nbformat_minor": 4
}