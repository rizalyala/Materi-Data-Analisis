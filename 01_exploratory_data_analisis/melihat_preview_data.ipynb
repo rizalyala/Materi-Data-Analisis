{
 "cells": [
  {
   "cell_type": "code",
   "execution_count": 1,
   "metadata": {},
   "outputs": [
    {
     "name": "stdout",
     "output_type": "stream",
     "text": [
      "                           order_id  ...  product_weight_gram\n",
      "0  2e7a8482f6fb09756ca50c10d7bfc047  ...               1800.0\n",
      "1  2e7a8482f6fb09756ca50c10d7bfc047  ...               1400.0\n",
      "2  e5fa5a7210941f7d56d0208e4e071d35  ...                700.0\n",
      "3  3b697a20d9e427646d92567910af6d57  ...                300.0\n",
      "4  71303d7e93b399f5bcd537d124c0bcfa  ...                500.0\n",
      "5  be5bc2f0da14d8071e2d45451ad119d9  ...                400.0\n",
      "6  0a0837a5eee9e7a9ce2b1fa831944d27  ...               3100.0\n",
      "7  1ff217aa612f6cd7c4255c9bfe931c8b  ...                200.0\n",
      "8  22613579f7d11cc59c4347526fc3c79e  ...                600.0\n",
      "9  356b492aba2d1a7da886e54e0b6212b7  ...                610.0\n",
      "\n",
      "[10 rows x 12 columns]\n"
     ]
    }
   ],
   "source": [
    "# HEAD melihat data dari atas (defaultnya 5)\n",
    "\n",
    "import pandas as pd\n",
    "order_df = pd.read_csv(\"https://storage.googleapis.com/dqlab-dataset/order.csv\")\n",
    "print(order_df.head(10))"
   ]
  },
  {
   "cell_type": "code",
   "execution_count": 2,
   "metadata": {},
   "outputs": [
    {
     "name": "stdout",
     "output_type": "stream",
     "text": [
      "                               order_id  ...  product_weight_gram\n",
      "49989  e2abaacfbaa87cb128b9c6675bcd2b98  ...                150.0\n",
      "49990  e35d5b4ff8dc9aeccf9cd8ce63c07a68  ...               1150.0\n",
      "49991  e59dbfb7d81fd513f1ffa941fe849c57  ...               1064.0\n",
      "49992  e821c71ba6efed0813bbc0a01a95f24d  ...                925.0\n",
      "49993  e821c71ba6efed0813bbc0a01a95f24d  ...                925.0\n",
      "49994  ec88157ad03aa203c3fdfe7bace5ab6b  ...               2425.0\n",
      "49995  ed60085e92e2aa3debf49159deb34da7  ...               2350.0\n",
      "49996  ed98c37d860890f940e2acd83629fdd1  ...               2600.0\n",
      "49997  ed98c37d860890f940e2acd83629fdd1  ...               2600.0\n",
      "49998  ede4ebbb6e36cbd377eabcc7f5229575  ...               1450.0\n",
      "\n",
      "[10 rows x 12 columns]\n"
     ]
    }
   ],
   "source": [
    "# TAIL melihat data dari bawah (defaultnya 5)\n",
    "\n",
    "import pandas as pd\n",
    "order_df = pd.read_csv(\"https://storage.googleapis.com/dqlab-dataset/order.csv\")\n",
    "print(order_df.tail(10))"
   ]
  }
 ],
 "metadata": {
  "interpreter": {
   "hash": "7eff29eea51cc0875cdf45c3d54f4b1ae9d9d66abcf4645c66748e224d4b6dc2"
  },
  "kernelspec": {
   "display_name": "Python 3.9.4 64-bit",
   "name": "python3"
  },
  "language_info": {
   "name": "python",
   "version": ""
  },
  "metadata": {
   "interpreter": {
    "hash": "43387ae2c7343e1aebc2cdbeb78cfc377146eb50b8af571122dd41c95c68e131"
   }
  },
  "orig_nbformat": 2
 },
 "nbformat": 4,
 "nbformat_minor": 2
}
