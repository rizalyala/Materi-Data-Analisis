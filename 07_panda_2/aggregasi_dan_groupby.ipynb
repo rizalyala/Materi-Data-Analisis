{
 "cells": [
  {
   "cell_type": "markdown",
   "source": [
    "---\r\n",
    "\r\n",
    "Teknik agregasi diperlukan ketika mau melihat dataset dengan view yang berbeda, bisa set data tersebut akan dikelompokkan seperti apa, yang kemudian juga bisa menerapkan beberapa fungsi atau metode statistik ke hasil group dataset itu untuk mengetahui behavior dari data tersebut secara summary/overview.\r\n",
    "\r\n",
    "---"
   ],
   "metadata": {}
  },
  {
   "cell_type": "code",
   "execution_count": 1,
   "source": [
    "import pandas as pd\r\n",
    "# Load data global_air_quality.csv\r\n",
    "global_air_quality = pd.read_csv('https://storage.googleapis.com/dqlab-dataset/LO4/global_air_quality_4000rows.csv')\r\n",
    "print('Lima data teratas:\\n', global_air_quality.head())\r\n",
    "# Melakukan pengecekan terhadap data\r\n",
    "print('Info global_air_quality:\\n', global_air_quality.info())\r\n",
    "# Melakukan count tanpa groupby\r\n",
    "print('Count tanpa groupby:\\n', global_air_quality.count())\r\n",
    "# Melakukan count dengan groupby \r\n",
    "gaq_groupby_count = global_air_quality.groupby('source_name').count()\r\n",
    "print('Count dengan groupby (5 data teratas):\\n', gaq_groupby_count.head())"
   ],
   "outputs": [
    {
     "output_type": "stream",
     "name": "stdout",
     "text": [
      "Lima data teratas:\n",
      "                           location       city country pollutant  value  \\\n",
      "0                  MOBILE-KICKAPOO    LINCOLN      US      pm10   7.00   \n",
      "1                  Oxford St Ebbes     Oxford      GB       no2  30.00   \n",
      "2                 BROADWAY (South)  St. Louis      US      pm25   6.10   \n",
      "3  Deen Dayal Nagar, Sagar - MPPCB      Sagar      IN      pm25  23.67   \n",
      "4                        Manglerud       Oslo      NO      pm10  27.06   \n",
      "\n",
      "                 timestamp   unit source_name   latitude  longitude  \\\n",
      "0  2017-01-18 16:00:00 UTC  µg/m³      AirNow  35.488400 -97.090280   \n",
      "1  2020-04-07 20:00:00 UTC  µg/m³       DEFRA  51.744804  -1.260278   \n",
      "2  2020-04-07 19:00:00 UTC  µg/m³      AirNow  38.542500 -90.263610   \n",
      "3  2020-04-07 18:30:00 UTC  µg/m³       caaqm  23.864016  78.802895   \n",
      "4  2020-04-07 20:00:00 UTC  µg/m³      Norway  59.898690  10.814950   \n",
      "\n",
      "   averaged_over_in_hours  \n",
      "0                    1.00  \n",
      "1                    1.00  \n",
      "2                    1.00  \n",
      "3                    0.25  \n",
      "4                    1.00  \n",
      "<class 'pandas.core.frame.DataFrame'>\n",
      "RangeIndex: 4000 entries, 0 to 3999\n",
      "Data columns (total 11 columns):\n",
      " #   Column                  Non-Null Count  Dtype  \n",
      "---  ------                  --------------  -----  \n",
      " 0   location                3997 non-null   object \n",
      " 1   city                    3966 non-null   object \n",
      " 2   country                 4000 non-null   object \n",
      " 3   pollutant               4000 non-null   object \n",
      " 4   value                   4000 non-null   float64\n",
      " 5   timestamp               4000 non-null   object \n",
      " 6   unit                    4000 non-null   object \n",
      " 7   source_name             4000 non-null   object \n",
      " 8   latitude                4000 non-null   float64\n",
      " 9   longitude               4000 non-null   float64\n",
      " 10  averaged_over_in_hours  3634 non-null   float64\n",
      "dtypes: float64(4), object(7)\n",
      "memory usage: 343.9+ KB\n",
      "Info global_air_quality:\n",
      " None\n",
      "Count tanpa groupby:\n",
      " location                  3997\n",
      "city                      3966\n",
      "country                   4000\n",
      "pollutant                 4000\n",
      "value                     4000\n",
      "timestamp                 4000\n",
      "unit                      4000\n",
      "source_name               4000\n",
      "latitude                  4000\n",
      "longitude                 4000\n",
      "averaged_over_in_hours    3634\n",
      "dtype: int64\n",
      "Count dengan groupby (5 data teratas):\n",
      "              location  city  country  pollutant  value  timestamp  unit  \\\n",
      "source_name                                                               \n",
      "ARPALAZIO          72    72       72         72     72         72    72   \n",
      "Agaar.mn           27    27       27         27     27         27    27   \n",
      "AirNow           1712  1681     1715       1715   1715       1715  1715   \n",
      "Andalucia          71    71       71         71     71         71    71   \n",
      "Anqing              4     4        4          4      4          4     4   \n",
      "\n",
      "             latitude  longitude  averaged_over_in_hours  \n",
      "source_name                                               \n",
      "ARPALAZIO          72         72                      72  \n",
      "Agaar.mn           27         27                       0  \n",
      "AirNow           1715       1715                    1715  \n",
      "Andalucia          71         71                      71  \n",
      "Anqing              4          4                       4  \n"
     ]
    }
   ],
   "metadata": {}
  },
  {
   "cell_type": "markdown",
   "source": [
    "---\r\n",
    "\r\n",
    "Terdapat perbedaan antara melakukan count dengan groupby dan tanpa groupby,\r\n",
    "\r\n",
    "- Terdapat index apa yang di specify as groupby\r\n",
    "- Perhitungan jadi berdasarkan apa yang di specify as groupby\r\n",
    "- Overall, lebih mudah untuk membaca data summary yang telah di groupby\r\n",
    "\r\n",
    "---"
   ],
   "metadata": {}
  },
  {
   "cell_type": "markdown",
   "source": [
    "---\r\n",
    "Groupby dan Aggregasi dengan Fungsi Statistik Dasar - Part 1\r\n",
    "---\r\n",
    "\r\n",
    "---"
   ],
   "metadata": {}
  },
  {
   "cell_type": "markdown",
   "source": [
    "---\r\n",
    "\r\n",
    "Pada subbab ini akan menerapkan groupby dan fungsi aggregasi mean dan std untuk menentukan nilai rata-rata dan standar deviasi dari masing-masing kelompok data dari dataset https://storage.googleapis.com/dqlab-dataset/LO4/global_air_quality_4000rows.csv dan diassign sebagai variabel df_gaq.\r\n",
    "\r\n",
    "---"
   ],
   "metadata": {}
  },
  {
   "cell_type": "code",
   "execution_count": 1,
   "source": [
    "import pandas as pd\r\n",
    "# Load data global_air_quality.csv\r\n",
    "gaq = pd.read_csv('https://storage.googleapis.com/dqlab-dataset/LO4/global_air_quality_4000rows.csv')\r\n",
    "# Create variabel pollutant \r\n",
    "pollutant = gaq[['country','city','pollutant','value']].pivot_table(index=['country','city'],columns='pollutant').fillna(0)\r\n",
    "print('Data pollutant (5 teratas):\\n', pollutant.head())\r\n",
    "\r\n",
    "# [1] Group berdasarkan country dan terapkan aggregasi mean\r\n",
    "pollutant_mean = pollutant.groupby('country').mean()\r\n",
    "print('Rata-rata pollutant (5 teratas):\\n', pollutant_mean.head())\r\n",
    "\r\n",
    "# [2] Group berdasarkan country dan terapkan aggregasi std\r\n",
    "pollutant_std = pollutant.groupby('country').std().fillna(0)\r\n",
    "print('Standar deviasi pollutant (5 teratas):\\n', pollutant_std.head())"
   ],
   "outputs": [
    {
     "output_type": "stream",
     "name": "stdout",
     "text": [
      "Data pollutant (5 teratas):\n",
      "                      value                                     \n",
      "pollutant               bc      co   no2   o3   pm10  pm25  so2\n",
      "country city                                                   \n",
      "AR      Buenos Aires   0.0     0.0   0.0  0.0    0.0  18.1  0.0\n",
      "AU      Townsville     0.0     0.0   0.0  0.0    0.0   3.9  0.0\n",
      "BA      Goražde        0.0   141.0  19.0  8.0    0.0   0.0  0.0\n",
      "        Ilijaš         0.0     0.0   0.0  0.0  100.0   0.0  0.0\n",
      "        Jajce          0.0  1508.0  25.0  6.0    9.0   0.0  0.0\n",
      "Rata-rata pollutant (5 teratas):\n",
      "           value                                                         \\\n",
      "pollutant    bc          co        no2        o3       pm10       pm25   \n",
      "country                                                                  \n",
      "AR          0.0    0.000000   0.000000  0.000000   0.000000  18.100000   \n",
      "AU          0.0    0.000000   0.000000  0.000000   0.000000   3.900000   \n",
      "BA          0.0  475.833333  19.500000  5.833333  40.333333   0.000000   \n",
      "CA          0.0    0.036818   0.000355  0.025963   0.836364   3.433601   \n",
      "CL          0.0    0.000000  21.000000  0.000000   0.000000   0.000000   \n",
      "\n",
      "                      \n",
      "pollutant        so2  \n",
      "country               \n",
      "AR          0.000000  \n",
      "AU          0.000000  \n",
      "BA         18.000000  \n",
      "CA          0.000091  \n",
      "CL          0.000000  \n",
      "Standar deviasi pollutant (5 teratas):\n",
      "           value                                                        \\\n",
      "pollutant    bc          co        no2        o3       pm10      pm25   \n",
      "country                                                                 \n",
      "AR          0.0    0.000000   0.000000  0.000000   0.000000  0.000000   \n",
      "AU          0.0    0.000000   0.000000  0.000000   0.000000  0.000000   \n",
      "BA          0.0  536.925476  11.945711  8.207720  46.701891  0.000000   \n",
      "CA          0.0    0.089841   0.000750  0.019323   1.713052  2.286509   \n",
      "CL          0.0    0.000000   0.000000  0.000000   0.000000  0.000000   \n",
      "\n",
      "                      \n",
      "pollutant        so2  \n",
      "country               \n",
      "AR          0.000000  \n",
      "AU          0.000000  \n",
      "BA         30.403947  \n",
      "CA          0.000302  \n",
      "CL          0.000000  \n"
     ]
    }
   ],
   "metadata": {}
  },
  {
   "cell_type": "markdown",
   "source": [
    "---\r\n",
    "\r\n",
    "[1] Group berdasarkan country dan terapkan aggregasi mean, method .mean() setelah penerapan method .groupby() digunakan untuk mencari rata-rata dari tiap kelompok\r\n",
    "\r\n",
    "---"
   ],
   "metadata": {}
  },
  {
   "cell_type": "markdown",
   "source": [
    "---\r\n",
    "[2] Group berdasarkan country dan terapkan aggregasi std, method .std() setelah penerapan method .groupby() digunakan untuk mencari standard deviasi (penyimpangan) dari tiap kelompok\r\n",
    "\r\n",
    "---"
   ],
   "metadata": {}
  },
  {
   "cell_type": "markdown",
   "source": [
    "---\r\n",
    "Groupby dan Aggregasi dengan Fungsi Statistik Dasar - Part 2\r\n",
    "---\r\n",
    "\r\n",
    "---"
   ],
   "metadata": {}
  },
  {
   "cell_type": "markdown",
   "source": [
    "---\r\n",
    "Akan melanjutkan untuk fungsi statistik lainnya yaitu .sum() dan .nunique() untuk mengaggregasi dataset pollutant setelah di groupby.\r\n",
    "\r\n",
    "---"
   ],
   "metadata": {}
  },
  {
   "cell_type": "code",
   "execution_count": 2,
   "source": [
    "import pandas as pd\r\n",
    "# Load data https://storage.googleapis.com/dqlab-dataset/LO4/global_air_quality_4000rows.csv\r\n",
    "gaq = pd.read_csv('https://storage.googleapis.com/dqlab-dataset/LO4/global_air_quality_4000rows.csv')\r\n",
    "# Create variabel pollutant \r\n",
    "pollutant = gaq[['country','city','pollutant','value']].pivot_table(index=['country','city'],columns='pollutant').fillna(0)\r\n",
    "print('Data pollutant (5 teratas):\\n', pollutant.head())\r\n",
    "# [3] Group berdasarkan country dan terapkan aggregasi sum\r\n",
    "pollutant_sum = pollutant.groupby('country').sum()\r\n",
    "print('Total pollutant (5 teratas):\\n', pollutant_sum.head())\r\n",
    "# [4] Group berdasarkan country dan terapkan aggregasi nunique\r\n",
    "pollutant_nunique = pollutant.groupby('country').nunique()\r\n",
    "print('Jumlah unique value pollutant (5 teratas):\\n', pollutant_nunique.head())"
   ],
   "outputs": [
    {
     "output_type": "stream",
     "name": "stdout",
     "text": [
      "Data pollutant (5 teratas):\n",
      "                      value                                     \n",
      "pollutant               bc      co   no2   o3   pm10  pm25  so2\n",
      "country city                                                   \n",
      "AR      Buenos Aires   0.0     0.0   0.0  0.0    0.0  18.1  0.0\n",
      "AU      Townsville     0.0     0.0   0.0  0.0    0.0   3.9  0.0\n",
      "BA      Goražde        0.0   141.0  19.0  8.0    0.0   0.0  0.0\n",
      "        Ilijaš         0.0     0.0   0.0  0.0  100.0   0.0  0.0\n",
      "        Jajce          0.0  1508.0  25.0  6.0    9.0   0.0  0.0\n",
      "Total pollutant (5 teratas):\n",
      "           value                                                          \n",
      "pollutant    bc        co       no2         o3   pm10       pm25      so2\n",
      "country                                                                  \n",
      "AR          0.0     0.000    0.0000   0.000000    0.0  18.100000    0.000\n",
      "AU          0.0     0.000    0.0000   0.000000    0.0   3.900000    0.000\n",
      "BA          0.0  2855.000  117.0000  35.000000  242.0   0.000000  108.000\n",
      "CA          0.0     0.405    0.0039   0.285593    9.2  37.769608    0.001\n",
      "CL          0.0     0.000   21.0000   0.000000    0.0   0.000000    0.000\n",
      "Jumlah unique value pollutant (5 teratas):\n",
      "           value                        \n",
      "pollutant    bc co no2 o3 pm10 pm25 so2\n",
      "country                                \n",
      "AR            1  1   1  1    1    1   1\n",
      "AU            1  1   1  1    1    1   1\n",
      "BA            1  6   6  4    5    1   4\n",
      "CA            1  3   4  9    4   10   2\n",
      "CL            1  1   1  1    1    1   1\n"
     ]
    }
   ],
   "metadata": {}
  },
  {
   "cell_type": "markdown",
   "source": [
    "---\r\n",
    "[3] Group berdasarkan country dan terapkan aggregasi sum, method .sum() setelah penerapan method .groupby() digunakan untuk mencari total nilai dari tiap kelompok\r\n",
    "\r\n",
    "---"
   ],
   "metadata": {}
  },
  {
   "cell_type": "markdown",
   "source": [
    "---\r\n",
    "\r\n",
    "[4] Group berdasarkan country dan terapkan aggregasi nunique, method .nunique() setelah penerapan method .groupby() digunakan untuk mencari berapakah jumlah unique value dari tiap kelompok\r\n",
    "\r\n",
    "---"
   ],
   "metadata": {}
  },
  {
   "cell_type": "markdown",
   "source": [
    "---\r\n",
    "Groupby dan Aggregasi dengan Fungsi Statistik Dasar - Part 3\r\n",
    "---\r\n",
    "\r\n",
    "---"
   ],
   "metadata": {}
  },
  {
   "cell_type": "markdown",
   "source": [
    "---\r\n",
    "Akan melanjutkan untuk fungsi statistik .min() dan .max() untuk mengaggregasi dataset pollutant setelah di groupby.\r\n",
    "\r\n",
    "---"
   ],
   "metadata": {}
  },
  {
   "cell_type": "code",
   "execution_count": 3,
   "source": [
    "import pandas as pd\r\n",
    "# Load data https://storage.googleapis.com/dqlab-dataset/LO4/global_air_quality_4000rows.csv\r\n",
    "gaq = pd.read_csv('https://storage.googleapis.com/dqlab-dataset/LO4/global_air_quality_4000rows.csv')\r\n",
    "# Create variabel pollutant \r\n",
    "pollutant = gaq[['country','city','pollutant','value']].pivot_table(index=['country','city'],columns='pollutant').fillna(0)\r\n",
    "print('Data pollutant (5 teratas):\\n', pollutant.head())\r\n",
    "# [3] Group berdasarkan country dan terapkan aggregasi min\r\n",
    "pollutant_min = pollutant.groupby('country').min()\r\n",
    "print('Total pollutant (5 teratas):\\n', pollutant_min.head())\r\n",
    "# [4] Group berdasarkan country dan terapkan aggregasi max\r\n",
    "pollutant_max = pollutant.groupby('country').max()\r\n",
    "print('Jumlah unique value pollutant (5 teratas):\\n', pollutant_max.head())"
   ],
   "outputs": [
    {
     "output_type": "stream",
     "name": "stdout",
     "text": [
      "Data pollutant (5 teratas):\n",
      "                      value                                     \n",
      "pollutant               bc      co   no2   o3   pm10  pm25  so2\n",
      "country city                                                   \n",
      "AR      Buenos Aires   0.0     0.0   0.0  0.0    0.0  18.1  0.0\n",
      "AU      Townsville     0.0     0.0   0.0  0.0    0.0   3.9  0.0\n",
      "BA      Goražde        0.0   141.0  19.0  8.0    0.0   0.0  0.0\n",
      "        Ilijaš         0.0     0.0   0.0  0.0  100.0   0.0  0.0\n",
      "        Jajce          0.0  1508.0  25.0  6.0    9.0   0.0  0.0\n",
      "Total pollutant (5 teratas):\n",
      "           value                                \n",
      "pollutant    bc   co   no2   o3 pm10  pm25  so2\n",
      "country                                        \n",
      "AR          0.0  0.0   0.0  0.0  0.0  18.1  0.0\n",
      "AU          0.0  0.0   0.0  0.0  0.0   3.9  0.0\n",
      "BA          0.0  0.0   0.0  0.0  0.0   0.0  0.0\n",
      "CA          0.0  0.0   0.0  0.0  0.0   0.0  0.0\n",
      "CL          0.0  0.0  21.0  0.0  0.0   0.0  0.0\n",
      "Jumlah unique value pollutant (5 teratas):\n",
      "           value                                                   \n",
      "pollutant    bc        co      no2         o3   pm10  pm25     so2\n",
      "country                                                           \n",
      "AR          0.0     0.000   0.0000   0.000000    0.0  18.1   0.000\n",
      "AU          0.0     0.000   0.0000   0.000000    0.0   3.9   0.000\n",
      "BA          0.0  1508.000  32.0000  21.000000  100.0   0.0  78.000\n",
      "CA          0.0     0.285   0.0024   0.048333    5.2   6.0   0.001\n",
      "CL          0.0     0.000  21.0000   0.000000    0.0   0.0   0.000\n"
     ]
    }
   ],
   "metadata": {}
  },
  {
   "cell_type": "markdown",
   "source": [
    "---\r\n",
    "[5] Group berdasarkan country dan terapkan aggregasi min, method .min() setelah penerapan method .groupby() digunakan untuk memunculkan nilai terkecil dari tiap kelompok\r\n",
    "\r\n",
    "---"
   ],
   "metadata": {}
  },
  {
   "cell_type": "markdown",
   "source": [
    "---\r\n",
    "[6] Group berdasarkan country dan terapkan aggregasi max, method .max() setelah penerapan method .groupby() digunakan untuk memunculkan nilai terbesar dari tiap kelompok\r\n",
    "\r\n",
    "---"
   ],
   "metadata": {}
  },
  {
   "cell_type": "markdown",
   "source": [
    "---\r\n",
    "\r\n",
    "Groupby dengan Multiple Aggregations\r\n",
    "---\r\n",
    "\r\n",
    "---"
   ],
   "metadata": {}
  },
  {
   "cell_type": "code",
   "execution_count": 6,
   "source": [
    "import pandas as pd\r\n",
    "# Load data https://storage.googleapis.com/dqlab-dataset/LO4/global_air_quality_4000rows.csv\r\n",
    "gaq = pd.read_csv('https://storage.googleapis.com/dqlab-dataset/LO4/global_air_quality_4000rows.csv')\r\n",
    "# Create variabel pollutant \r\n",
    "pollutant = gaq[['country','city','pollutant','value']].pivot_table(index=['country','city'],columns='pollutant').fillna(0)\r\n",
    "print('Data pollutant (5 teratas):\\n', pollutant.head())\r\n",
    "# Group berdasarkan country dan terapkan aggregasi: min, median, mean, max\r\n",
    "multiagg = pollutant.groupby('country').agg(['min','median','mean','max'])\r\n",
    "print('Multiple aggregations (5 teratas):\\n', multiagg.head())"
   ],
   "outputs": [
    {
     "output_type": "stream",
     "name": "stdout",
     "text": [
      "Data pollutant (5 teratas):\n",
      "                      value                                     \n",
      "pollutant               bc      co   no2   o3   pm10  pm25  so2\n",
      "country city                                                   \n",
      "AR      Buenos Aires   0.0     0.0   0.0  0.0    0.0  18.1  0.0\n",
      "AU      Townsville     0.0     0.0   0.0  0.0    0.0   3.9  0.0\n",
      "BA      Goražde        0.0   141.0  19.0  8.0    0.0   0.0  0.0\n",
      "        Ilijaš         0.0     0.0   0.0  0.0  100.0   0.0  0.0\n",
      "        Jajce          0.0  1508.0  25.0  6.0    9.0   0.0  0.0\n",
      "Multiple aggregations (5 teratas):\n",
      "         value                                                                  \\\n",
      "           bc                    co                                no2          \n",
      "          min median mean  max  min median        mean       max   min median   \n",
      "country                                                                         \n",
      "AR        0.0    0.0  0.0  0.0  0.0    0.0    0.000000     0.000   0.0    0.0   \n",
      "AU        0.0    0.0  0.0  0.0  0.0    0.0    0.000000     0.000   0.0    0.0   \n",
      "BA        0.0    0.0  0.0  0.0  0.0  355.0  475.833333  1508.000   0.0   22.0   \n",
      "CA        0.0    0.0  0.0  0.0  0.0    0.0    0.036818     0.285   0.0    0.0   \n",
      "CL        0.0    0.0  0.0  0.0  0.0    0.0    0.000000     0.000  21.0   21.0   \n",
      "\n",
      "         ...                                                              \\\n",
      "         ...       pm10         pm25                          so2          \n",
      "         ...       mean    max   min median       mean   max  min median   \n",
      "country  ...                                                               \n",
      "AR       ...   0.000000    0.0  18.1   18.1  18.100000  18.1  0.0    0.0   \n",
      "AU       ...   0.000000    0.0   3.9    3.9   3.900000   3.9  0.0    0.0   \n",
      "BA       ...  40.333333  100.0   0.0    0.0   0.000000   0.0  0.0    5.5   \n",
      "CA       ...   0.836364    5.2   0.0    4.0   3.433601   6.0  0.0    0.0   \n",
      "CL       ...   0.000000    0.0   0.0    0.0   0.000000   0.0  0.0    0.0   \n",
      "\n",
      "                            \n",
      "                            \n",
      "              mean     max  \n",
      "country                     \n",
      "AR        0.000000   0.000  \n",
      "AU        0.000000   0.000  \n",
      "BA       18.000000  78.000  \n",
      "CA        0.000091   0.001  \n",
      "CL        0.000000   0.000  \n",
      "\n",
      "[5 rows x 28 columns]\n"
     ]
    }
   ],
   "metadata": {}
  },
  {
   "cell_type": "markdown",
   "source": [
    "---\r\n",
    "\r\n",
    "Groupby dengan Custom Aggregations\r\n",
    "---\r\n",
    "\r\n",
    "---"
   ],
   "metadata": {}
  },
  {
   "cell_type": "code",
   "execution_count": 7,
   "source": [
    "import pandas as pd\r\n",
    "# Load data https://storage.googleapis.com/dqlab-dataset/LO4/global_air_quality_4000rows.csv\r\n",
    "gaq = pd.read_csv('https://storage.googleapis.com/dqlab-dataset/LO4/global_air_quality_4000rows.csv')\r\n",
    "# Create variabel pollutant \r\n",
    "pollutant = gaq[['country','city','pollutant','value']].pivot_table(index=['country','city'],columns='pollutant').fillna(0)\r\n",
    "# Create sebuah function: iqr\r\n",
    "def iqr(series):\r\n",
    "\tQ1 = series.quantile(0.25)\r\n",
    "\tQ3 = series.quantile(0.75)\r\n",
    "\treturn Q3-Q1\r\n",
    "# Group berdasarkan country dan terapkan aggregasi dari function: iqr\r\n",
    "custom_agg = pollutant.groupby('country').agg(iqr)\r\n",
    "print('Custom aggregation (5 teratas):\\n', custom_agg.head())"
   ],
   "outputs": [
    {
     "output_type": "stream",
     "name": "stdout",
     "text": [
      "Custom aggregation (5 teratas):\n",
      "         value                                                  \n",
      "           bc      co       no2        o3  pm10      pm25   so2\n",
      "country                                                        \n",
      "AR        0.0    0.00   0.00000  0.000000   0.0  0.000000   0.0\n",
      "AU        0.0    0.00   0.00000  0.000000   0.0  0.000000   0.0\n",
      "BA        0.0  297.75  14.25000  7.500000  79.0  0.000000  17.0\n",
      "CA        0.0    0.00   0.00025  0.035708   0.5  3.876471   0.0\n",
      "CL        0.0    0.00   0.00000  0.000000   0.0  0.000000   0.0\n"
     ]
    }
   ],
   "metadata": {}
  },
  {
   "cell_type": "markdown",
   "source": [
    "---\r\n",
    "\r\n",
    "Groupby dengan Custom Aggregations by dict\r\n",
    "---\r\n",
    "\r\n",
    "---"
   ],
   "metadata": {}
  },
  {
   "cell_type": "markdown",
   "source": [
    "---\r\n",
    "\r\n",
    "Penggunaan custom aggregation lainnya pada dataframe yang telah digroupby dapat dilakukan dengan mempasskan sebuah dict yang berisi 'key' dict sebagai nama kolomnya dan 'value' dict adalah fungsi untuk aggregasi, baik user defined function atau yang telah tersedia.\r\n",
    "\r\n",
    "---"
   ],
   "metadata": {}
  },
  {
   "cell_type": "code",
   "execution_count": 8,
   "source": [
    "import pandas as pd\r\n",
    "# Load data https://storage.googleapis.com/dqlab-dataset/LO4/global_air_quality_4000rows.csv\r\n",
    "gaq = pd.read_csv('https://storage.googleapis.com/dqlab-dataset/LO4/global_air_quality_4000rows.csv')\r\n",
    "# Create variabel pollutant \r\n",
    "pollutant = gaq[['country','city','pollutant','value']].pivot_table(index=['country','city'],columns='pollutant').fillna(0)\r\n",
    "print('Data pollutant (5 teratas):\\n', pollutant.head())\r\n",
    "# Function IQR\r\n",
    "def iqr(series):\r\n",
    "\treturn series.quantile(0.75) - series.quantile(0.25)\r\n",
    "# Create custom aggregation using dict\r\n",
    "custom_agg_dict = pollutant['value'][['pm10','pm25','so2']].groupby('country').agg({\r\n",
    "   'pm10':'median',\r\n",
    "   'pm25':iqr,\r\n",
    "   'so2':iqr\r\n",
    "})\r\n",
    "print('\\nCetak 5 data teratas custom_agg_dict:\\n', custom_agg_dict.head())"
   ],
   "outputs": [
    {
     "output_type": "stream",
     "name": "stdout",
     "text": [
      "Data pollutant (5 teratas):\n",
      "                      value                                     \n",
      "pollutant               bc      co   no2   o3   pm10  pm25  so2\n",
      "country city                                                   \n",
      "AR      Buenos Aires   0.0     0.0   0.0  0.0    0.0  18.1  0.0\n",
      "AU      Townsville     0.0     0.0   0.0  0.0    0.0   3.9  0.0\n",
      "BA      Goražde        0.0   141.0  19.0  8.0    0.0   0.0  0.0\n",
      "        Ilijaš         0.0     0.0   0.0  0.0  100.0   0.0  0.0\n",
      "        Jajce          0.0  1508.0  25.0  6.0    9.0   0.0  0.0\n",
      "\n",
      "Cetak 5 data teratas custom_agg_dict:\n",
      "          pm10      pm25   so2\n",
      "country                      \n",
      "AR        0.0  0.000000   0.0\n",
      "AU        0.0  0.000000   0.0\n",
      "BA       23.0  0.000000  17.0\n",
      "CA        0.0  3.876471   0.0\n",
      "CL        0.0  0.000000   0.0\n"
     ]
    }
   ],
   "metadata": {}
  }
 ],
 "metadata": {
  "orig_nbformat": 4,
  "language_info": {
   "name": "python",
   "version": "3.9.4",
   "mimetype": "text/x-python",
   "codemirror_mode": {
    "name": "ipython",
    "version": 3
   },
   "pygments_lexer": "ipython3",
   "nbconvert_exporter": "python",
   "file_extension": ".py"
  },
  "kernelspec": {
   "name": "python3",
   "display_name": "Python 3.9.4 64-bit ('.myenv': venv)"
  },
  "interpreter": {
   "hash": "43387ae2c7343e1aebc2cdbeb78cfc377146eb50b8af571122dd41c95c68e131"
  }
 },
 "nbformat": 4,
 "nbformat_minor": 2
}