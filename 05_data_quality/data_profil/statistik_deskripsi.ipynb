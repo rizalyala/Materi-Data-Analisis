{
 "metadata": {
  "language_info": {
   "codemirror_mode": {
    "name": "ipython",
    "version": 3
   },
   "file_extension": ".py",
   "mimetype": "text/x-python",
   "name": "python",
   "nbconvert_exporter": "python",
   "pygments_lexer": "ipython3",
   "version": "3.9.4"
  },
  "orig_nbformat": 2,
  "kernelspec": {
   "name": "python3",
   "display_name": "Python 3.9.4 64-bit ('.myenv': venv)"
  },
  "metadata": {
   "interpreter": {
    "hash": "43387ae2c7343e1aebc2cdbeb78cfc377146eb50b8af571122dd41c95c68e131"
   }
  },
  "interpreter": {
   "hash": "43387ae2c7343e1aebc2cdbeb78cfc377146eb50b8af571122dd41c95c68e131"
  }
 },
 "nbformat": 4,
 "nbformat_minor": 2,
 "cells": [
  {
   "cell_type": "code",
   "execution_count": 4,
   "source": [
    "import pandas as pd\r\n",
    "import numpy as np\r\n",
    "import io\r\n",
    "\r\n",
    "retail_raw = pd.read_csv( 'https://storage.googleapis.com/dqlab-dataset/retail_raw_reduced_data_quality.csv')\r\n",
    "\r\n",
    "# Statistik Deskriptif (len/length)\r\n",
    "\r\n",
    "length_city = len(retail_raw['city'])\r\n",
    "print('Length kolom city: ', length_city)\r\n",
    "\r\n",
    "# Statistik Deskriptif (count)\r\n",
    "\r\n",
    "count_city = retail_raw['city'].count()\r\n",
    "print('Count kolom count_city:', count_city)\r\n",
    "\r\n",
    "\"\"\"Missing Value\r\n",
    "\r\n",
    "Dengan Length dan Count, sekarang dapat menghitung jumlah missing-value. Jumlah nilai yang hilang adalah perbedaan antara Length dan Count.\"\"\"\r\n",
    "\r\n",
    "\r\n",
    "# Missing value\r\n",
    "\r\n",
    "number_of_missing_values_city = length_city - count_city\r\n",
    "float_of_missing_values_city = float(number_of_missing_values_city/length_city)\r\n",
    "pct_of_missing_values_city = '{0:.1f}%'.format(float_of_missing_values_city * 100)\r\n",
    "print('Persentase missing value kolom city:',pct_of_missing_values_city)\r\n",
    "\r\n",
    "# Max, min, mean, median, mode, std\r\n",
    "\r\n",
    "print('Kolom quantity')\r\n",
    "print('Minimum value: ', retail_raw['quantity'].min())\r\n",
    "print('Maximum value: ', retail_raw['quantity'].max())\r\n",
    "print('Mean value: ', retail_raw['quantity'].mean())\r\n",
    "print('Mode value: ', retail_raw['quantity'].mode())\r\n",
    "print('Median value: ', retail_raw['quantity'].median())\r\n",
    "print('Standard Deviation value: ', retail_raw['quantity'].std())\r\n",
    "\r\n",
    "# Quantile\r\n",
    "\r\n",
    "print('Kolom quantity:')\r\n",
    "print(retail_raw['quantity'].quantile([0.25, 0.5, 0.75]))\r\n",
    "\r\n",
    "# Korelasi\r\n",
    "\r\n",
    "print('Korelasi quantity dengan item_price')\r\n",
    "print(retail_raw[['quantity', 'item_price']].corr())\r\n"
   ],
   "outputs": [
    {
     "output_type": "error",
     "ename": "ModuleNotFoundError",
     "evalue": "No module named 'pandas_profiling'",
     "traceback": [
      "\u001b[1;31m---------------------------------------------------------------------------\u001b[0m",
      "\u001b[1;31mModuleNotFoundError\u001b[0m                       Traceback (most recent call last)",
      "\u001b[1;32m<ipython-input-4-4905ed674d90>\u001b[0m in \u001b[0;36m<module>\u001b[1;34m\u001b[0m\n\u001b[0;32m      2\u001b[0m \u001b[1;32mimport\u001b[0m \u001b[0mnumpy\u001b[0m \u001b[1;32mas\u001b[0m \u001b[0mnp\u001b[0m\u001b[1;33m\u001b[0m\u001b[1;33m\u001b[0m\u001b[0m\n\u001b[0;32m      3\u001b[0m \u001b[1;32mimport\u001b[0m \u001b[0mio\u001b[0m\u001b[1;33m\u001b[0m\u001b[1;33m\u001b[0m\u001b[0m\n\u001b[1;32m----> 4\u001b[1;33m \u001b[1;32mimport\u001b[0m \u001b[0mpandas_profiling\u001b[0m\u001b[1;33m\u001b[0m\u001b[1;33m\u001b[0m\u001b[0m\n\u001b[0m\u001b[0;32m      5\u001b[0m \u001b[1;33m\u001b[0m\u001b[0m\n\u001b[0;32m      6\u001b[0m \u001b[0mretail_raw\u001b[0m \u001b[1;33m=\u001b[0m \u001b[0mpd\u001b[0m\u001b[1;33m.\u001b[0m\u001b[0mread_csv\u001b[0m\u001b[1;33m(\u001b[0m \u001b[1;34m'https://storage.googleapis.com/dqlab-dataset/retail_raw_reduced_data_quality.csv'\u001b[0m\u001b[1;33m)\u001b[0m\u001b[1;33m\u001b[0m\u001b[1;33m\u001b[0m\u001b[0m\n",
      "\u001b[1;31mModuleNotFoundError\u001b[0m: No module named 'pandas_profiling'"
     ]
    }
   ],
   "metadata": {}
  },
  {
   "cell_type": "markdown",
   "source": [
    "---\r\n",
    "Length\r\n",
    "---\r\n",
    "\r\n",
    "Fungsi len menghitung jumlah pengamatan dalam suatu series / column. Fungsi len akan menghitung semua pengamatan, terlepas dari apakah ada null-value atau tidak (include missing value).\r\n",
    "\r\n",
    "Count\r\n",
    "---\r\n",
    "\r\n",
    "Fungsi count menghitung jumlah pengamatan non-NA / non-null dalam suatu series / column. Fungsi len akan hanya menghitung elemen dari kolom yang mempunyai nilai (exclude missing value)\r\n",
    "\r\n",
    "Missing Value\r\n",
    "---\r\n",
    "\r\n",
    "Dengan Length dan Count, sekarang dapat menghitung jumlah missing-value. Jumlah nilai yang hilang adalah perbedaan antara Length dan Count.\r\n",
    "\r\n",
    "Quantile Statistics\r\n",
    "---\r\n",
    "\r\n",
    "Quantiles adalah titik potong yang membagi distribusi dalam ukuran yang sama. Jika akan membagi distribusi menjadi empat grup yang sama, kuantil yang dibuat dinamai quartile. Jika dibagi kedalam 10 sepuluh group yang sama dinamakan percentile. Dalam kasus di bawah ini, ingin membagi distribusi menjadi empat grup atau quartile.\r\n",
    "\r\n",
    "Correlation\r\n",
    "---\r\n",
    "\r\n",
    "Korelasi adalah cara yang tepat untuk menemukan hubungan antara variabel numerik. Koefisien korelasi berkisar antara -1 hingga 1. Korelasi 1 adalah korelasi positif total, korelasi -1 adalah korelasi negatif total dan korelasi 0 adalah korelasi non-linear.\r\n",
    "\r\n",
    "---"
   ],
   "metadata": {}
  }
 ]
}