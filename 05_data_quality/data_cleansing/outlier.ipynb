{
 "metadata": {
  "language_info": {
   "codemirror_mode": {
    "name": "ipython",
    "version": 3
   },
   "file_extension": ".py",
   "mimetype": "text/x-python",
   "name": "python",
   "nbconvert_exporter": "python",
   "pygments_lexer": "ipython3",
   "version": "3.9.4"
  },
  "orig_nbformat": 2,
  "kernelspec": {
   "name": "pythonjvsc74a57bd043387ae2c7343e1aebc2cdbeb78cfc377146eb50b8af571122dd41c95c68e131",
   "display_name": "Python 3.9.4  ('.myenv': venv)"
  },
  "metadata": {
   "interpreter": {
    "hash": "43387ae2c7343e1aebc2cdbeb78cfc377146eb50b8af571122dd41c95c68e131"
   }
  }
 },
 "nbformat": 4,
 "nbformat_minor": 2,
 "cells": [
  {
   "cell_type": "code",
   "execution_count": 1,
   "source": [
    "import pandas as pd\r\n",
    "import numpy as np\r\n",
    "\r\n",
    "retail_raw = pd.read_csv( 'https://storage.googleapis.com/dqlab-dataset/retail_raw_reduced_data_quality.csv')\r\n",
    "\r\n",
    "# Q1, Q3, dan IQR\r\n",
    "Q1 = retail_raw['quantity'].quantile(0.25)\r\n",
    "Q3 = retail_raw['quantity'].quantile(0.75)\r\n",
    "IQR = Q3 - Q1 # Mencari hasil IQR\r\n",
    "\r\n",
    "# Check ukuran (baris dan kolom) sebelum data yang outliers dibuang\r\n",
    "print('Shape awal: ', retail_raw.shape)\r\n",
    "\r\n",
    "# Removing outliers\r\n",
    "retail_raw = retail_raw[~((retail_raw['quantity'] < (Q1 - 1.5 * IQR)) | (retail_raw['quantity'] > (Q3 + 1.5 * IQR)))]\r\n",
    "\r\n",
    "# Check ukuran (baris dan kolom) setelah data yang outliers dibuang\r\n",
    "print('Shape akhir: ', retail_raw.shape)"
   ],
   "outputs": [
    {
     "output_type": "stream",
     "name": "stdout",
     "text": [
      "Shape awal:  (5000, 9)\n",
      "Shape akhir:  (4699, 9)\n"
     ]
    }
   ],
   "metadata": {}
  }
 ]
}