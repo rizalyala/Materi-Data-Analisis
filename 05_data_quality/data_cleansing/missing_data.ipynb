{
 "metadata": {
  "language_info": {
   "codemirror_mode": {
    "name": "ipython",
    "version": 3
   },
   "file_extension": ".py",
   "mimetype": "text/x-python",
   "name": "python",
   "nbconvert_exporter": "python",
   "pygments_lexer": "ipython3",
   "version": "3.9.4"
  },
  "orig_nbformat": 2,
  "kernelspec": {
   "name": "python3",
   "display_name": "Python 3.9.4 64-bit"
  },
  "metadata": {
   "interpreter": {
    "hash": "43387ae2c7343e1aebc2cdbeb78cfc377146eb50b8af571122dd41c95c68e131"
   }
  },
  "interpreter": {
   "hash": "7eff29eea51cc0875cdf45c3d54f4b1ae9d9d66abcf4645c66748e224d4b6dc2"
  }
 },
 "nbformat": 4,
 "nbformat_minor": 2,
 "cells": [
  {
   "cell_type": "markdown",
   "source": [
    "\r\n",
    "# **Missing Data**\r\n",
    "\r\n",
    "Dataset yang ditemui di real-world biasanya akan memiliki banyak missing value. Kemampuan untuk treatment missing value sangat penting karena jika membiarkan missing value itu dapat memengaruhi analisis dan machine learning model. Sehingga jika menemukan nilai yang hilang dalam dataset, harus melakukan treatment sedemikian rupa.\r\n",
    "\r\n",
    "Cara treatment terhadap missing-value antara lain:\r\n",
    "\r\n",
    "- Leave as it is (dibiarkan)\r\n",
    "- Filling the missing value (imputasi)\r\n",
    "- Drop them (hapus row yang mengandung missing value)\r\n",
    "\r\n",
    "Imputasi merupakan suatu metode treatment terhadap missing value dengan mengisinya menggunakan teknik tertentu. Bisa menggunakan mean, modus ataupun menggunakan predictive modelling. Pada modul ini akan membahas mengenai pemanfaatan function fillna dari Pandas untuk imputasi ini.\r\n",
    "\r\n",
    "---"
   ],
   "metadata": {}
  },
  {
   "cell_type": "code",
   "execution_count": 1,
   "source": [
    "import pandas as pd\r\n",
    "import numpy as np\r\n",
    "\r\n",
    "retail_raw = pd.read_csv( 'https://storage.googleapis.com/dqlab-dataset/retail_raw_reduced_data_quality.csv')\r\n",
    "\r\n",
    "# Check kolom yang memiliki missing data\r\n",
    "print('Check kolom yang memiliki missing data:')\r\n",
    "print(retail_raw.isnull().sum())\r\n",
    "\r\n",
    "# Filling the missing value (imputasi)\r\n",
    "\"\"\"Imputasi merupakan suatu metode treatment terhadap missing value dengan mengisinya menggunakan teknik tertentu. \r\n",
    "Bisa menggunakan mean, modus ataupun menggunakan predictive modelling. \r\n",
    "Pada modul ini akan membahas mengenai pemanfaatan function fillna dari Pandas untuk imputasi ini, yaitu\"\"\"\r\n",
    "\r\n",
    "print('\\nFilling the missing value (imputasi):')\r\n",
    "print(retail_raw['quantity'].fillna(retail_raw.quantity.mean()))\r\n",
    "\r\n",
    "# Drop missing value\r\n",
    "\"\"\"Menghapus Missing Value\"\"\"\r\n",
    "\r\n",
    "print('\\nDrop missing value:')\r\n",
    "print(retail_raw['quantity'].dropna())"
   ],
   "outputs": [
    {
     "output_type": "stream",
     "name": "stdout",
     "text": [
      "Check kolom yang memiliki missing data:\n",
      "order_id        0\n",
      "order_date      0\n",
      "customer_id     0\n",
      "city           16\n",
      "province       12\n",
      "product_id     11\n",
      "brand           0\n",
      "quantity       14\n",
      "item_price     13\n",
      "dtype: int64\n",
      "\n",
      "Filling the missing value (imputasi):\n",
      "0       10.0\n",
      "1        2.0\n",
      "2        8.0\n",
      "3        4.0\n",
      "4        2.0\n",
      "        ... \n",
      "4995     2.0\n",
      "4996     3.0\n",
      "4997     4.0\n",
      "4998     8.0\n",
      "4999     1.0\n",
      "Name: quantity, Length: 5000, dtype: float64\n",
      "\n",
      "Drop missing value:\n",
      "0       10.0\n",
      "1        2.0\n",
      "2        8.0\n",
      "3        4.0\n",
      "4        2.0\n",
      "        ... \n",
      "4995     2.0\n",
      "4996     3.0\n",
      "4997     4.0\n",
      "4998     8.0\n",
      "4999     1.0\n",
      "Name: quantity, Length: 4986, dtype: float64\n"
     ]
    }
   ],
   "metadata": {}
  }
 ]
}