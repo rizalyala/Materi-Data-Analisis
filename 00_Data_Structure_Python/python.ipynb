{
 "cells": [
  {
   "cell_type": "markdown",
   "source": [
    "# **LIST**\r\n",
    "\r\n",
    "\r\n",
    "\r\n"
   ],
   "metadata": {}
  },
  {
   "cell_type": "code",
   "execution_count": 2,
   "source": [
    "\r\n",
    "contoh_list = [1,'dua',3,4.0,5]\r\n",
    "\r\n",
    "print(contoh_list[0])\r\n",
    "print(contoh_list[3])\r\n",
    "\r\n",
    "contoh_list = [1,'dua',3,4.0,5]\r\n",
    "contoh_list[3] = 'empat'\r\n",
    "\r\n",
    "print(contoh_list[3])"
   ],
   "outputs": [
    {
     "output_type": "stream",
     "name": "stdout",
     "text": [
      "1\n",
      "4.0\n",
      "empat\n"
     ]
    }
   ],
   "metadata": {}
  },
  {
   "cell_type": "markdown",
   "source": [
    "---"
   ],
   "metadata": {}
  },
  {
   "cell_type": "markdown",
   "source": [
    "# **TUPLE**"
   ],
   "metadata": {}
  },
  {
   "cell_type": "code",
   "execution_count": 7,
   "source": [
    "contoh_tuple = ('Januari', 'Febuari','Maret','April')\r\n",
    "\r\n",
    "print(contoh_tuple[0])"
   ],
   "outputs": [
    {
     "output_type": "stream",
     "name": "stdout",
     "text": [
      "Januari\n"
     ]
    }
   ],
   "metadata": {}
  },
  {
   "cell_type": "markdown",
   "source": [
    "---"
   ],
   "metadata": {}
  },
  {
   "cell_type": "markdown",
   "source": [
    "# **Set Type**\r\n",
    "\r\n",
    "Serupa dengan tipe data sequence, tipe data set digunakan untuk menampung sekumpulan data dengan tipe lainnya. Terdapat dua jenis dari tipe data set yaitu, set dan frozenset.\r\n",
    "\r\n",
    "Tipe data set diawali dengan tanda kurung buka kurawal ( { ), memisahkan setiap elemen di dalamnya dengan tanda koma ( , ) dan ditutup dengan tanda kurung tutup ( } ). Namun, berbeda dengan tipe data sequence, seperti list, tipe data objek tidak mengizinkan adanya elemen dengan nilai yang sama dan tidak memperdulikan urutan dari elemen."
   ],
   "metadata": {}
  },
  {
   "cell_type": "code",
   "execution_count": 17,
   "source": [
    "contoh_list = ['Dewi', 'Budi', 'Cici', 'Linda','Cici']\r\n",
    "print('List   -->', contoh_list)\r\n",
    "\r\n",
    "contoh_set = {'Dewi', 'Budi', 'Cici', 'Linda','Cici'}\r\n",
    "print('Set    -->',contoh_set)\r\n",
    "\r\n",
    "contoh_frozen_set = ({'Dewi', 'Budi', 'Cici', 'Linda','Cici'})\r\n",
    "print('Frozen -->', contoh_frozen_set)"
   ],
   "outputs": [
    {
     "output_type": "stream",
     "name": "stdout",
     "text": [
      "List   --> ['Dewi', 'Budi', 'Cici', 'Linda', 'Cici']\n",
      "Set    --> {'Linda', 'Budi', 'Dewi', 'Cici'}\n",
      "Frozen --> {'Linda', 'Budi', 'Dewi', 'Cici'}\n"
     ]
    }
   ],
   "metadata": {}
  },
  {
   "cell_type": "markdown",
   "source": [
    "---"
   ],
   "metadata": {}
  },
  {
   "cell_type": "markdown",
   "source": [
    "# **Mapping Type**\r\n",
    "\r\n",
    "Tipe data mapping dapat digunakan untuk memetakan sebuah nilai ke nilai lainnya. Dalam Python, tipe data mapping disebut dengan istilah dictionary. Tipe data dictionary dapat dideklarasikan dengan diawali oleh tanda kurung buka kurawal ( { ), memisahkan setiap elemen di dalamnya dengan tanda koma ( , ) dan ditutup dengan tanda kurung tutup ( } ). Setiap elemen pada tipe data dictionary dideklarasikan dengan format:"
   ],
   "metadata": {}
  },
  {
   "cell_type": "raw",
   "source": [
    "\"kunci\" : \"nilai\""
   ],
   "metadata": {}
  },
  {
   "cell_type": "code",
   "execution_count": 18,
   "source": [
    "person = {'nama':'John Doe','pekerjaan':'Programmer'}\r\n",
    "print(person['nama'])\r\n",
    "print(person['pekerjaan'])"
   ],
   "outputs": [
    {
     "output_type": "stream",
     "name": "stdout",
     "text": [
      "John Doe\n",
      "Programmer\n"
     ]
    }
   ],
   "metadata": {}
  }
 ],
 "metadata": {
  "orig_nbformat": 4,
  "language_info": {
   "name": "python",
   "version": "3.9.4",
   "mimetype": "text/x-python",
   "codemirror_mode": {
    "name": "ipython",
    "version": 3
   },
   "pygments_lexer": "ipython3",
   "nbconvert_exporter": "python",
   "file_extension": ".py"
  },
  "kernelspec": {
   "name": "python3",
   "display_name": "Python 3.9.4 64-bit"
  },
  "interpreter": {
   "hash": "7eff29eea51cc0875cdf45c3d54f4b1ae9d9d66abcf4645c66748e224d4b6dc2"
  }
 },
 "nbformat": 4,
 "nbformat_minor": 2
}